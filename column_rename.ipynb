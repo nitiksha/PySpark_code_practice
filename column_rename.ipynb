{
  "nbformat": 4,
  "nbformat_minor": 0,
  "metadata": {
    "colab": {
      "provenance": [],
      "authorship_tag": "ABX9TyMs8RjiycPVXy3eYq9rQhhp",
      "include_colab_link": true
    },
    "kernelspec": {
      "name": "python3",
      "display_name": "Python 3"
    },
    "language_info": {
      "name": "python"
    }
  },
  "cells": [
    {
      "cell_type": "markdown",
      "metadata": {
        "id": "view-in-github",
        "colab_type": "text"
      },
      "source": [
        "<a href=\"https://colab.research.google.com/github/nitiksha/PySpark_code_practice/blob/main/column_rename.ipynb\" target=\"_parent\"><img src=\"https://colab.research.google.com/assets/colab-badge.svg\" alt=\"Open In Colab\"/></a>"
      ]
    },
    {
      "cell_type": "code",
      "execution_count": 1,
      "metadata": {
        "id": "riYXxgB5zUv5"
      },
      "outputs": [],
      "source": [
        "from pyspark.sql import SparkSession\n",
        "spark = SparkSession.builder.appName(\"column_rename\").getOrCreate()"
      ]
    },
    {
      "cell_type": "code",
      "source": [
        "df = spark.createDataFrame([(14, \"Tom\"), (23, \"Alice\"), (16, \"Bob\")], [\"age\", \"name\"])\n",
        "\n",
        "df1 = df.withColumnRenamed(\"name\",\"first_name\")\n",
        "df1.show()"
      ],
      "metadata": {
        "colab": {
          "base_uri": "https://localhost:8080/"
        },
        "id": "nU7LB1Mo3jZo",
        "outputId": "7e81ece4-3ee3-4cfa-9e45-2b1fadf8f8cc"
      },
      "execution_count": 3,
      "outputs": [
        {
          "output_type": "stream",
          "name": "stdout",
          "text": [
            "+---+----------+\n",
            "|age|first_name|\n",
            "+---+----------+\n",
            "| 14|       Tom|\n",
            "| 23|     Alice|\n",
            "| 16|       Bob|\n",
            "+---+----------+\n",
            "\n"
          ]
        }
      ]
    },
    {
      "cell_type": "code",
      "source": [
        "df2 = df1.withColumn(\"age_twice\",df1[\"age\"]*2)\n",
        "df2.show()"
      ],
      "metadata": {
        "colab": {
          "base_uri": "https://localhost:8080/"
        },
        "id": "SmlsI5ax58Su",
        "outputId": "0befb93a-c135-496c-e0b5-9f38a8176631"
      },
      "execution_count": 5,
      "outputs": [
        {
          "output_type": "stream",
          "name": "stdout",
          "text": [
            "+---+----------+---------+\n",
            "|age|first_name|age_twice|\n",
            "+---+----------+---------+\n",
            "| 14|       Tom|       28|\n",
            "| 23|     Alice|       46|\n",
            "| 16|       Bob|       32|\n",
            "+---+----------+---------+\n",
            "\n"
          ]
        }
      ]
    },
    {
      "cell_type": "code",
      "source": [
        "df3 = df.withColumnsRenamed({\"age\":\"umar\",\"name\":\"naam\"})\n",
        "df3.show()"
      ],
      "metadata": {
        "colab": {
          "base_uri": "https://localhost:8080/"
        },
        "id": "j39h0dcg63PO",
        "outputId": "92a4c9d6-17eb-4b02-c912-d6977cc2e9cb"
      },
      "execution_count": 6,
      "outputs": [
        {
          "output_type": "stream",
          "name": "stdout",
          "text": [
            "+----+-----+\n",
            "|umar| naam|\n",
            "+----+-----+\n",
            "|  14|  Tom|\n",
            "|  23|Alice|\n",
            "|  16|  Bob|\n",
            "+----+-----+\n",
            "\n"
          ]
        }
      ]
    },
    {
      "cell_type": "markdown",
      "source": [
        "**Add multiple columns**"
      ],
      "metadata": {
        "id": "mtfy4_159CSO"
      }
    },
    {
      "cell_type": "code",
      "source": [
        "from pyspark.sql.functions import lit,expr"
      ],
      "metadata": {
        "id": "8OVnQl7R9ZyT"
      },
      "execution_count": 11,
      "outputs": []
    },
    {
      "cell_type": "code",
      "source": [
        "df3 = df.withColumn(\"country\",lit('india'))"
      ],
      "metadata": {
        "id": "3XPXoqnz9KeU"
      },
      "execution_count": 12,
      "outputs": []
    },
    {
      "cell_type": "code",
      "source": [
        "df3.show()"
      ],
      "metadata": {
        "colab": {
          "base_uri": "https://localhost:8080/"
        },
        "id": "nPRarNBK__C2",
        "outputId": "d9a7179c-4158-49cd-a300-c9f9e74470cf"
      },
      "execution_count": 13,
      "outputs": [
        {
          "output_type": "stream",
          "name": "stdout",
          "text": [
            "+---+-----+-------+\n",
            "|age| name|country|\n",
            "+---+-----+-------+\n",
            "| 14|  Tom|  india|\n",
            "| 23|Alice|  india|\n",
            "| 16|  Bob|  india|\n",
            "+---+-----+-------+\n",
            "\n"
          ]
        }
      ]
    },
    {
      "cell_type": "code",
      "source": [
        "df3 = df3.select(\n",
        "    \"*\",\n",
        "    lit(\"asia\").alias(\"continent\"),\n",
        "    lit(\"andromeda\").alias(\"galaxy\")\n",
        ")\n",
        "\n",
        "df3.show()"
      ],
      "metadata": {
        "colab": {
          "base_uri": "https://localhost:8080/"
        },
        "id": "34cjL-YBAEpf",
        "outputId": "ac16b723-a527-4f97-edec-d8a545f04fda"
      },
      "execution_count": 16,
      "outputs": [
        {
          "output_type": "stream",
          "name": "stdout",
          "text": [
            "+---+-----+-------+---------+---------+\n",
            "|age| name|country|continent|   galaxy|\n",
            "+---+-----+-------+---------+---------+\n",
            "| 14|  Tom|  india|     asia|andromeda|\n",
            "| 23|Alice|  india|     asia|andromeda|\n",
            "| 16|  Bob|  india|     asia|andromeda|\n",
            "+---+-----+-------+---------+---------+\n",
            "\n"
          ]
        }
      ]
    },
    {
      "cell_type": "code",
      "source": [
        "df4 = df3.withColumn(\"month\",lit('feb'))\\\n",
        "           .withColumn(\"year\",lit('1999'))\n",
        "\n",
        "df4.show()"
      ],
      "metadata": {
        "colab": {
          "base_uri": "https://localhost:8080/"
        },
        "id": "LL3todpgBwJW",
        "outputId": "593ce1a2-476f-411e-8fe9-7755e80d64ab"
      },
      "execution_count": 17,
      "outputs": [
        {
          "output_type": "stream",
          "name": "stdout",
          "text": [
            "+---+-----+-------+---------+---------+-----+----+\n",
            "|age| name|country|continent|   galaxy|month|year|\n",
            "+---+-----+-------+---------+---------+-----+----+\n",
            "| 14|  Tom|  india|     asia|andromeda|  feb|1999|\n",
            "| 23|Alice|  india|     asia|andromeda|  feb|1999|\n",
            "| 16|  Bob|  india|     asia|andromeda|  feb|1999|\n",
            "+---+-----+-------+---------+---------+-----+----+\n",
            "\n"
          ]
        }
      ]
    }
  ]
}