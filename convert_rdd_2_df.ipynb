{
  "nbformat": 4,
  "nbformat_minor": 0,
  "metadata": {
    "colab": {
      "provenance": [],
      "authorship_tag": "ABX9TyMci64b5reG82H7UPbINCVh",
      "include_colab_link": true
    },
    "kernelspec": {
      "name": "python3",
      "display_name": "Python 3"
    },
    "language_info": {
      "name": "python"
    }
  },
  "cells": [
    {
      "cell_type": "markdown",
      "metadata": {
        "id": "view-in-github",
        "colab_type": "text"
      },
      "source": [
        "<a href=\"https://colab.research.google.com/github/nitiksha/PySpark_code_practice/blob/main/convert_rdd_2_df.ipynb\" target=\"_parent\"><img src=\"https://colab.research.google.com/assets/colab-badge.svg\" alt=\"Open In Colab\"/></a>"
      ]
    },
    {
      "cell_type": "code",
      "execution_count": 12,
      "metadata": {
        "id": "Sk3SPBqLaYTO"
      },
      "outputs": [],
      "source": [
        "from pyspark.sql import SparkSession"
      ]
    },
    {
      "cell_type": "code",
      "source": [],
      "metadata": {
        "id": "wm56zozkceuG"
      },
      "execution_count": 12,
      "outputs": []
    },
    {
      "cell_type": "code",
      "source": [],
      "metadata": {
        "id": "ThaA_hW-b2kK"
      },
      "execution_count": 12,
      "outputs": []
    },
    {
      "cell_type": "code",
      "source": [
        "spark= SparkSession.builder.appName(\"convert_rdd_2_df\").getOrCreate()"
      ],
      "metadata": {
        "id": "0KdPqSeja8WV"
      },
      "execution_count": 13,
      "outputs": []
    },
    {
      "cell_type": "code",
      "source": [
        "rdd = spark.sparkContext.parallelize([(\"alana\",1),(\"ahan\",2)])"
      ],
      "metadata": {
        "id": "f5LP4OffbHuw"
      },
      "execution_count": 16,
      "outputs": []
    },
    {
      "cell_type": "code",
      "source": [
        "schema = (\"name\",\"id\")"
      ],
      "metadata": {
        "id": "BFvCTQ_MdeKx"
      },
      "execution_count": 20,
      "outputs": []
    },
    {
      "cell_type": "markdown",
      "source": [],
      "metadata": {
        "id": "0nEfXdY9ddtO"
      }
    },
    {
      "cell_type": "code",
      "source": [
        "df =rdd.toDF(schema)"
      ],
      "metadata": {
        "id": "CkITlZ_ubam3"
      },
      "execution_count": 21,
      "outputs": []
    },
    {
      "cell_type": "code",
      "source": [
        "df.show()"
      ],
      "metadata": {
        "colab": {
          "base_uri": "https://localhost:8080/"
        },
        "id": "x6z0L1rPdnxc",
        "outputId": "db590828-fbc4-42c9-996f-a987b1911053"
      },
      "execution_count": 22,
      "outputs": [
        {
          "output_type": "stream",
          "name": "stdout",
          "text": [
            "+-----+---+\n",
            "| name| id|\n",
            "+-----+---+\n",
            "|alana|  1|\n",
            "| ahan|  2|\n",
            "+-----+---+\n",
            "\n"
          ]
        }
      ]
    }
  ]
}