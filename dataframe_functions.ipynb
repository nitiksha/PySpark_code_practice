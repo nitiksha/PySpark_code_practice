{
  "nbformat": 4,
  "nbformat_minor": 0,
  "metadata": {
    "colab": {
      "provenance": [],
      "authorship_tag": "ABX9TyMQ94w6CCD/lQKc24qVeWkM",
      "include_colab_link": true
    },
    "kernelspec": {
      "name": "python3",
      "display_name": "Python 3"
    },
    "language_info": {
      "name": "python"
    }
  },
  "cells": [
    {
      "cell_type": "markdown",
      "metadata": {
        "id": "view-in-github",
        "colab_type": "text"
      },
      "source": [
        "<a href=\"https://colab.research.google.com/github/nitiksha/PySpark_code_practice/blob/main/dataframe_functions.ipynb\" target=\"_parent\"><img src=\"https://colab.research.google.com/assets/colab-badge.svg\" alt=\"Open In Colab\"/></a>"
      ]
    },
    {
      "cell_type": "code",
      "execution_count": 3,
      "metadata": {
        "colab": {
          "base_uri": "https://localhost:8080/"
        },
        "id": "ZcQX0DyctFiP",
        "outputId": "72b8dd15-1043-44c2-8bc8-7a3e3c9694fa"
      },
      "outputs": [
        {
          "output_type": "stream",
          "name": "stdout",
          "text": [
            "+---+-------+-----+-----+\n",
            "| id|   name|score|bonus|\n",
            "+---+-------+-----+-----+\n",
            "|  1|  Alice| 85.5|   10|\n",
            "|  2|    Bob| 90.0|   20|\n",
            "|  1|  Alice| 78.0|   15|\n",
            "|  4|Charlie| 92.5|   25|\n",
            "+---+-------+-----+-----+\n",
            "\n"
          ]
        }
      ],
      "source": [
        "from pyspark.sql import SparkSession\n",
        "import pyspark.sql.functions as F\n",
        "\n",
        "# Create Spark session\n",
        "spark = SparkSession.builder.appName(\"DfFunctionsPractice\").getOrCreate()\n",
        "\n",
        "# Sample data\n",
        "data = [\n",
        "    (1, \"Alice\", 85.5, 10),\n",
        "    (2, \"Bob\", 90.0, 20),\n",
        "    (1, \"Alice\", 78.0, 15),\n",
        "    (4, \"Charlie\", 92.5, 25)\n",
        "]\n",
        "\n",
        "columns = [\"id\", \"name\", \"score\", \"bonus\"]\n",
        "\n",
        "# Create DataFrame\n",
        "df = spark.createDataFrame(data, schema=columns)\n",
        "\n",
        "# Show original df\n",
        "df.show()\n",
        "\n",
        "# Now you can use df to practice all these functions:\n",
        "# Examples:\n"
      ]
    },
    {
      "cell_type": "code",
      "source": [
        "df.withColumn(\"flag\",F.when((F.col(\"id\")>2),\"Yes\").otherwise(\"No\")).show()"
      ],
      "metadata": {
        "colab": {
          "base_uri": "https://localhost:8080/"
        },
        "id": "5otWHYkmttLF",
        "outputId": "30cfac4b-d61a-4b1e-afb5-02c8dd56d7fb"
      },
      "execution_count": 30,
      "outputs": [
        {
          "output_type": "stream",
          "name": "stdout",
          "text": [
            "+---+-------+-----+-----+----+\n",
            "| id|   name|score|bonus|flag|\n",
            "+---+-------+-----+-----+----+\n",
            "|  1|  Alice| 85.5|   10|  No|\n",
            "|  2|    Bob| 90.0|   20|  No|\n",
            "|  1|  Alice| 78.0|   15|  No|\n",
            "|  4|Charlie| 92.5|   25| Yes|\n",
            "+---+-------+-----+-----+----+\n",
            "\n"
          ]
        }
      ]
    },
    {
      "cell_type": "markdown",
      "source": [],
      "metadata": {
        "id": "ygp2kNQdvQIQ"
      }
    },
    {
      "cell_type": "code",
      "source": [
        "df.withColumn(\"high_score\",F.when((F.col(\"score\")>=90),\"90-percentile\").otherwise(\"low-percentile\")).show()"
      ],
      "metadata": {
        "colab": {
          "base_uri": "https://localhost:8080/"
        },
        "id": "oQclwBkhvpD4",
        "outputId": "47ae9b25-07d6-4eb0-a66e-2f9ff82735fe"
      },
      "execution_count": 31,
      "outputs": [
        {
          "output_type": "stream",
          "name": "stdout",
          "text": [
            "+---+-------+-----+-----+--------------+\n",
            "| id|   name|score|bonus|    high_score|\n",
            "+---+-------+-----+-----+--------------+\n",
            "|  1|  Alice| 85.5|   10|low-percentile|\n",
            "|  2|    Bob| 90.0|   20| 90-percentile|\n",
            "|  1|  Alice| 78.0|   15|low-percentile|\n",
            "|  4|Charlie| 92.5|   25| 90-percentile|\n",
            "+---+-------+-----+-----+--------------+\n",
            "\n"
          ]
        }
      ]
    },
    {
      "cell_type": "code",
      "source": [
        "df.filter(F.col(\"score\").isNull()).show()\n",
        "df.filter(F.col(\"score\").isNotNull()).show()\n"
      ],
      "metadata": {
        "colab": {
          "base_uri": "https://localhost:8080/"
        },
        "id": "2qtt-JepwKq-",
        "outputId": "d8fb9d52-88bb-4385-ce83-2e5f1f0d3fa2"
      },
      "execution_count": 32,
      "outputs": [
        {
          "output_type": "stream",
          "name": "stdout",
          "text": [
            "+---+----+-----+-----+\n",
            "| id|name|score|bonus|\n",
            "+---+----+-----+-----+\n",
            "+---+----+-----+-----+\n",
            "\n",
            "+---+-------+-----+-----+\n",
            "| id|   name|score|bonus|\n",
            "+---+-------+-----+-----+\n",
            "|  1|  Alice| 85.5|   10|\n",
            "|  2|    Bob| 90.0|   20|\n",
            "|  1|  Alice| 78.0|   15|\n",
            "|  4|Charlie| 92.5|   25|\n",
            "+---+-------+-----+-----+\n",
            "\n"
          ]
        }
      ]
    },
    {
      "cell_type": "code",
      "source": [
        "df.filter(F.col(\"bonus\").between(10,20)).show()\n",
        "df.filter(F.col(\"name\").like('Al%')).show()\n",
        "df.filter(F.col(\"name\").rlike('c')).show()\n",
        "df.filter(F.col(\"name\").rlike('(?i)C')).show()"
      ],
      "metadata": {
        "colab": {
          "base_uri": "https://localhost:8080/"
        },
        "id": "AVUJGceMzE-0",
        "outputId": "aedccbc6-6f90-4974-c17c-b1acb7deb81a"
      },
      "execution_count": 33,
      "outputs": [
        {
          "output_type": "stream",
          "name": "stdout",
          "text": [
            "+---+-----+-----+-----+\n",
            "| id| name|score|bonus|\n",
            "+---+-----+-----+-----+\n",
            "|  1|Alice| 85.5|   10|\n",
            "|  2|  Bob| 90.0|   20|\n",
            "|  1|Alice| 78.0|   15|\n",
            "+---+-----+-----+-----+\n",
            "\n",
            "+---+-----+-----+-----+\n",
            "| id| name|score|bonus|\n",
            "+---+-----+-----+-----+\n",
            "|  1|Alice| 85.5|   10|\n",
            "|  1|Alice| 78.0|   15|\n",
            "+---+-----+-----+-----+\n",
            "\n",
            "+---+-----+-----+-----+\n",
            "| id| name|score|bonus|\n",
            "+---+-----+-----+-----+\n",
            "|  1|Alice| 85.5|   10|\n",
            "|  1|Alice| 78.0|   15|\n",
            "+---+-----+-----+-----+\n",
            "\n",
            "+---+-------+-----+-----+\n",
            "| id|   name|score|bonus|\n",
            "+---+-------+-----+-----+\n",
            "|  1|  Alice| 85.5|   10|\n",
            "|  1|  Alice| 78.0|   15|\n",
            "|  4|Charlie| 92.5|   25|\n",
            "+---+-------+-----+-----+\n",
            "\n"
          ]
        }
      ]
    },
    {
      "cell_type": "code",
      "source": [
        "df1= df.withColumn(\"id_str\",F.col(\"id\").cast(\"string\"))"
      ],
      "metadata": {
        "id": "OvgTmC0I4dGq"
      },
      "execution_count": 34,
      "outputs": []
    },
    {
      "cell_type": "code",
      "source": [
        "df1.printSchema()\n"
      ],
      "metadata": {
        "colab": {
          "base_uri": "https://localhost:8080/"
        },
        "id": "z9kh3Bk64z85",
        "outputId": "2d643161-4059-4f7e-ff13-6453eb20284f"
      },
      "execution_count": 35,
      "outputs": [
        {
          "output_type": "stream",
          "name": "stdout",
          "text": [
            "root\n",
            " |-- id: long (nullable = true)\n",
            " |-- name: string (nullable = true)\n",
            " |-- score: double (nullable = true)\n",
            " |-- bonus: long (nullable = true)\n",
            " |-- id_str: string (nullable = true)\n",
            "\n"
          ]
        }
      ]
    },
    {
      "cell_type": "code",
      "source": [
        "df.select(F.count(\"id\")).show()"
      ],
      "metadata": {
        "colab": {
          "base_uri": "https://localhost:8080/"
        },
        "id": "es99W6t87fko",
        "outputId": "0b6d7d28-aecb-4d7d-ca83-735f64a7676a"
      },
      "execution_count": 36,
      "outputs": [
        {
          "output_type": "stream",
          "name": "stdout",
          "text": [
            "+---------+\n",
            "|count(id)|\n",
            "+---------+\n",
            "|        4|\n",
            "+---------+\n",
            "\n"
          ]
        }
      ]
    },
    {
      "cell_type": "code",
      "source": [
        "df.select(F.sum_distinct(\"id\"),F.sum(\"id\")).show()"
      ],
      "metadata": {
        "colab": {
          "base_uri": "https://localhost:8080/"
        },
        "id": "YO4dTZKN_YmE",
        "outputId": "ebed33d1-b664-4144-d4f4-15d61db93cf6"
      },
      "execution_count": 39,
      "outputs": [
        {
          "output_type": "stream",
          "name": "stdout",
          "text": [
            "+----------------+-------+\n",
            "|sum(DISTINCT id)|sum(id)|\n",
            "+----------------+-------+\n",
            "|               7|      8|\n",
            "+----------------+-------+\n",
            "\n"
          ]
        }
      ]
    },
    {
      "cell_type": "code",
      "source": [
        "df.select(F.countDistinct(\"id\"),F.approxCountDistinct(\"id\")).show()"
      ],
      "metadata": {
        "colab": {
          "base_uri": "https://localhost:8080/"
        },
        "id": "t7qh8AXU7wcq",
        "outputId": "e29d440f-f44e-4f4a-b92b-9a271b8e37c4"
      },
      "execution_count": 37,
      "outputs": [
        {
          "output_type": "stream",
          "name": "stdout",
          "text": [
            "+------------------+-------------------------+\n",
            "|count(DISTINCT id)|approx_count_distinct(id)|\n",
            "+------------------+-------------------------+\n",
            "|                 3|                        3|\n",
            "+------------------+-------------------------+\n",
            "\n"
          ]
        }
      ]
    },
    {
      "cell_type": "code",
      "source": [
        "df.select(F.min(\"id\"),F.max(\"id\"),F.avg(\"id\"),F.first(\"id\"),F.last(\"id\")).show()"
      ],
      "metadata": {
        "colab": {
          "base_uri": "https://localhost:8080/"
        },
        "id": "XWMYwApAe8bR",
        "outputId": "a7da9078-38f1-44ac-a08e-631ba95643c7"
      },
      "execution_count": 4,
      "outputs": [
        {
          "output_type": "stream",
          "name": "stdout",
          "text": [
            "+-------+-------+-------+---------+--------+\n",
            "|min(id)|max(id)|avg(id)|first(id)|last(id)|\n",
            "+-------+-------+-------+---------+--------+\n",
            "|      1|      4|    2.0|        1|       4|\n",
            "+-------+-------+-------+---------+--------+\n",
            "\n"
          ]
        }
      ]
    },
    {
      "cell_type": "code",
      "source": [
        "df.groupBy(\"name\").agg(F.collect_list(\"id\")).show()"
      ],
      "metadata": {
        "colab": {
          "base_uri": "https://localhost:8080/"
        },
        "id": "ZxNRJmzKiwkY",
        "outputId": "1c284895-bd31-4d2e-d82f-9b798dfa013c"
      },
      "execution_count": 8,
      "outputs": [
        {
          "output_type": "stream",
          "name": "stdout",
          "text": [
            "+-------+----------------+\n",
            "|   name|collect_list(id)|\n",
            "+-------+----------------+\n",
            "|    Bob|             [2]|\n",
            "|  Alice|          [1, 1]|\n",
            "|Charlie|             [4]|\n",
            "+-------+----------------+\n",
            "\n"
          ]
        }
      ]
    },
    {
      "cell_type": "code",
      "source": [
        "df.groupBy(\"name\").agg(F.collect_set(\"id\")).show()"
      ],
      "metadata": {
        "colab": {
          "base_uri": "https://localhost:8080/"
        },
        "id": "xAH0EvB0jMcm",
        "outputId": "4c832d82-1da6-4abd-a579-e7d254d6b899"
      },
      "execution_count": 9,
      "outputs": [
        {
          "output_type": "stream",
          "name": "stdout",
          "text": [
            "+-------+---------------+\n",
            "|   name|collect_set(id)|\n",
            "+-------+---------------+\n",
            "|    Bob|            [2]|\n",
            "|  Alice|            [1]|\n",
            "|Charlie|            [4]|\n",
            "+-------+---------------+\n",
            "\n"
          ]
        }
      ]
    }
  ]
}