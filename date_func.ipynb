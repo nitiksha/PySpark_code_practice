{
  "nbformat": 4,
  "nbformat_minor": 0,
  "metadata": {
    "colab": {
      "provenance": [],
      "authorship_tag": "ABX9TyOEPkYJ8l/zTXk4UpGCP4Aa",
      "include_colab_link": true
    },
    "kernelspec": {
      "name": "python3",
      "display_name": "Python 3"
    },
    "language_info": {
      "name": "python"
    }
  },
  "cells": [
    {
      "cell_type": "markdown",
      "metadata": {
        "id": "view-in-github",
        "colab_type": "text"
      },
      "source": [
        "<a href=\"https://colab.research.google.com/github/nitiksha/PySpark_code_practice/blob/main/date_func.ipynb\" target=\"_parent\"><img src=\"https://colab.research.google.com/assets/colab-badge.svg\" alt=\"Open In Colab\"/></a>"
      ]
    },
    {
      "cell_type": "code",
      "execution_count": 5,
      "metadata": {
        "colab": {
          "base_uri": "https://localhost:8080/"
        },
        "id": "f0BfIQaLka4j",
        "outputId": "64b3db16-c57b-4cc2-9237-49e5ee2ddc96"
      },
      "outputs": [
        {
          "output_type": "stream",
          "name": "stdout",
          "text": [
            "+-----+----------+-------------------+\n",
            "|name |hire_date |last_login         |\n",
            "+-----+----------+-------------------+\n",
            "|Alice|2025-08-21|2025-08-21 10:00:00|\n",
            "|Bob  |2025-02-15|2025-02-15 15:30:00|\n",
            "|Cathy|2024-12-25|2024-12-25 18:45:00|\n",
            "|David|2023-01-01|2023-01-01 23:59:59|\n",
            "+-----+----------+-------------------+\n",
            "\n",
            "root\n",
            " |-- name: string (nullable = true)\n",
            " |-- hire_date: date (nullable = true)\n",
            " |-- last_login: timestamp (nullable = true)\n",
            "\n"
          ]
        }
      ],
      "source": [
        "from pyspark.sql import SparkSession\n",
        "from pyspark.sql.types import StructType, StructField, StringType, DateType, TimestampType\n",
        "from datetime import date, datetime\n",
        "import pyspark.sql.functions as F\n",
        "\n",
        "# Start Spark session\n",
        "spark = SparkSession.builder.appName('DateFunctionPractice').getOrCreate()\n",
        "\n",
        "# Sample data with string, date, and timestamp columns\n",
        "data = [\n",
        "    (\"Alice\", date(2025, 8, 21), datetime(2025, 8, 21, 10, 0, 0)),\n",
        "    (\"Bob\", date(2025, 2, 15), datetime(2025, 2, 15, 15, 30, 0)),\n",
        "    (\"Cathy\", date(2024, 12, 25), datetime(2024, 12, 25, 18, 45, 0)),\n",
        "    (\"David\", date(2023, 1, 1), datetime(2023, 1, 1, 23, 59, 59))\n",
        "]\n",
        "\n",
        "schema = StructType([\n",
        "    StructField(\"name\", StringType(), True),\n",
        "    StructField(\"hire_date\", DateType(), True),        # Date column\n",
        "    StructField(\"last_login\", TimestampType(), True)   # Timestamp column\n",
        "])\n",
        "\n",
        "df = spark.createDataFrame(data, schema=schema)\n",
        "\n",
        "df.show(truncate=False)\n",
        "df.printSchema()\n",
        "\n"
      ]
    },
    {
      "cell_type": "code",
      "source": [
        "df = df.withColumn(\"current_date\", F.current_date())\n",
        "df.withColumn(\"add_date\", F.date_add(F.current_date(),5)).show()\n",
        "df.withColumn(\"sub_date\", F.date_sub(F.current_date(),5)).show()"
      ],
      "metadata": {
        "colab": {
          "base_uri": "https://localhost:8080/"
        },
        "id": "04mvBE9qvE2D",
        "outputId": "cac0c296-8b73-44cd-a820-291b06177a02"
      },
      "execution_count": 11,
      "outputs": [
        {
          "output_type": "stream",
          "name": "stdout",
          "text": [
            "+-----+----------+-------------------+------------+----------+\n",
            "| name| hire_date|         last_login|current_date|  add_date|\n",
            "+-----+----------+-------------------+------------+----------+\n",
            "|Alice|2025-08-21|2025-08-21 10:00:00|  2025-08-23|2025-08-28|\n",
            "|  Bob|2025-02-15|2025-02-15 15:30:00|  2025-08-23|2025-08-28|\n",
            "|Cathy|2024-12-25|2024-12-25 18:45:00|  2025-08-23|2025-08-28|\n",
            "|David|2023-01-01|2023-01-01 23:59:59|  2025-08-23|2025-08-28|\n",
            "+-----+----------+-------------------+------------+----------+\n",
            "\n",
            "+-----+----------+-------------------+------------+----------+\n",
            "| name| hire_date|         last_login|current_date|  sub_date|\n",
            "+-----+----------+-------------------+------------+----------+\n",
            "|Alice|2025-08-21|2025-08-21 10:00:00|  2025-08-23|2025-08-18|\n",
            "|  Bob|2025-02-15|2025-02-15 15:30:00|  2025-08-23|2025-08-18|\n",
            "|Cathy|2024-12-25|2024-12-25 18:45:00|  2025-08-23|2025-08-18|\n",
            "|David|2023-01-01|2023-01-01 23:59:59|  2025-08-23|2025-08-18|\n",
            "+-----+----------+-------------------+------------+----------+\n",
            "\n"
          ]
        }
      ]
    },
    {
      "cell_type": "code",
      "source": [
        "df.withColumn(\"year\", F.year(F.lit('2025-08-28'))).show()"
      ],
      "metadata": {
        "colab": {
          "base_uri": "https://localhost:8080/"
        },
        "id": "i5GXTd7iyc26",
        "outputId": "b9eaf789-7a2f-42b6-87d8-860c70cf15a3"
      },
      "execution_count": 15,
      "outputs": [
        {
          "output_type": "stream",
          "name": "stdout",
          "text": [
            "+-----+----------+-------------------+------------+----+\n",
            "| name| hire_date|         last_login|current_date|year|\n",
            "+-----+----------+-------------------+------------+----+\n",
            "|Alice|2025-08-21|2025-08-21 10:00:00|  2025-08-23|2025|\n",
            "|  Bob|2025-02-15|2025-02-15 15:30:00|  2025-08-23|2025|\n",
            "|Cathy|2024-12-25|2024-12-25 18:45:00|  2025-08-23|2025|\n",
            "|David|2023-01-01|2023-01-01 23:59:59|  2025-08-23|2025|\n",
            "+-----+----------+-------------------+------------+----+\n",
            "\n"
          ]
        }
      ]
    },
    {
      "cell_type": "code",
      "source": [
        "df.withColumn(\"date_diff\", F.datediff(F.current_date(),F.lit('2025-08-28'))).show()"
      ],
      "metadata": {
        "colab": {
          "base_uri": "https://localhost:8080/"
        },
        "id": "aIJnuHjLy0cV",
        "outputId": "9dfe6be0-d638-48b2-acea-1b36abd71b03"
      },
      "execution_count": 17,
      "outputs": [
        {
          "output_type": "stream",
          "name": "stdout",
          "text": [
            "+-----+----------+-------------------+------------+---------+\n",
            "| name| hire_date|         last_login|current_date|date_diff|\n",
            "+-----+----------+-------------------+------------+---------+\n",
            "|Alice|2025-08-21|2025-08-21 10:00:00|  2025-08-23|       -5|\n",
            "|  Bob|2025-02-15|2025-02-15 15:30:00|  2025-08-23|       -5|\n",
            "|Cathy|2024-12-25|2024-12-25 18:45:00|  2025-08-23|       -5|\n",
            "|David|2023-01-01|2023-01-01 23:59:59|  2025-08-23|       -5|\n",
            "+-----+----------+-------------------+------------+---------+\n",
            "\n"
          ]
        }
      ]
    }
  ]
}