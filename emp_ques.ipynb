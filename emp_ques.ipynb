{
  "nbformat": 4,
  "nbformat_minor": 0,
  "metadata": {
    "colab": {
      "provenance": [],
      "authorship_tag": "ABX9TyMr2vc+dPPyRznlZ73SU/Dj",
      "include_colab_link": true
    },
    "kernelspec": {
      "name": "python3",
      "display_name": "Python 3"
    },
    "language_info": {
      "name": "python"
    }
  },
  "cells": [
    {
      "cell_type": "markdown",
      "metadata": {
        "id": "view-in-github",
        "colab_type": "text"
      },
      "source": [
        "<a href=\"https://colab.research.google.com/github/nitiksha/PySpark_code_practice/blob/main/emp_ques.ipynb\" target=\"_parent\"><img src=\"https://colab.research.google.com/assets/colab-badge.svg\" alt=\"Open In Colab\"/></a>"
      ]
    },
    {
      "cell_type": "code",
      "execution_count": 26,
      "metadata": {
        "colab": {
          "base_uri": "https://localhost:8080/"
        },
        "id": "LjqQHKwWr7N6",
        "outputId": "f6c74d56-7e61-4498-e4fd-6c6306c59ef9"
      },
      "outputs": [
        {
          "output_type": "stream",
          "name": "stdout",
          "text": [
            "+------+------+-----------+------+\n",
            "|emp_id|  name| department|salary|\n",
            "+------+------+-----------+------+\n",
            "|   101| Aditi|         HR|  NULL|\n",
            "|   101| Aditi|Engineering| 72000|\n",
            "|   103|  Neha|         HR| 60000|\n",
            "|   104| Arjun|      Sales| 48000|\n",
            "|   105| Priya|Engineering| 75000|\n",
            "|   106| Karan|      Sales| 50000|\n",
            "|   107| Meera|Engineering| 71000|\n",
            "|   108|Ishaan|         HR| 50000|\n",
            "|   109| Tanya|Engineering| 73000|\n",
            "|   110| Varun|Engineering| 69000|\n",
            "+------+------+-----------+------+\n",
            "\n"
          ]
        }
      ],
      "source": [
        "from pyspark.sql import SparkSession\n",
        "from pyspark.sql.types import StructType, StructField, IntegerType, StringType, FloatType\n",
        "\n",
        "# Start Spark session\n",
        "spark = SparkSession.builder.getOrCreate()\n",
        "\n",
        "# Define schema\n",
        "schema = StructType([\n",
        "    StructField(\"emp_id\", IntegerType(), True),\n",
        "    StructField(\"name\", StringType(), True),\n",
        "    StructField(\"department\", StringType(), True),\n",
        "    StructField(\"salary\", IntegerType(), True)\n",
        "])\n",
        "\n",
        "# Sample data\n",
        "data = [\n",
        "    (101, \"Aditi\", \"HR\", None),\n",
        "    (101, \"Aditi\", \"Engineering\", 72000),\n",
        "    (103, \"Neha\", \"HR\", 60000),\n",
        "    (104, \"Arjun\", \"Sales\", 48000),\n",
        "    (105, \"Priya\", \"Engineering\", 75000),\n",
        "    (106, \"Karan\", \"Sales\", 50000),\n",
        "    (107, \"Meera\", \"Engineering\", 71000),\n",
        "    (108, \"Ishaan\", \"HR\", 50000),\n",
        "    (109, \"Tanya\", \"Engineering\", 73000),\n",
        "    (110, \"Varun\", \"Engineering\", 69000)\n",
        "]\n",
        "\n",
        "# Create DataFrame\n",
        "df = spark.createDataFrame(data, schema)\n",
        "df.show()"
      ]
    },
    {
      "cell_type": "code",
      "source": [
        "dedup_df = df.dropDuplicates([\"emp_id\",\"name\"])\n",
        "dedup_df.show()"
      ],
      "metadata": {
        "colab": {
          "base_uri": "https://localhost:8080/"
        },
        "id": "GKv7LRf2ugoS",
        "outputId": "85b38895-8e30-4d7f-eb07-05db92fefcb9"
      },
      "execution_count": 24,
      "outputs": [
        {
          "output_type": "stream",
          "name": "stdout",
          "text": [
            "+------+------+-----------+------+\n",
            "|emp_id|  name| department|salary|\n",
            "+------+------+-----------+------+\n",
            "|   101| Aditi|         HR|  NULL|\n",
            "|   103|  Neha|         HR| 60000|\n",
            "|   104| Arjun|      Sales| 48000|\n",
            "|   105| Priya|Engineering| 75000|\n",
            "|   106| Karan|      Sales| 50000|\n",
            "|   107| Meera|Engineering| 71000|\n",
            "|   108|Ishaan|         HR| 50000|\n",
            "|   109| Tanya|Engineering| 73000|\n",
            "|   110| Varun|Engineering| 69000|\n",
            "+------+------+-----------+------+\n",
            "\n"
          ]
        }
      ]
    },
    {
      "cell_type": "code",
      "source": [
        "dropnull_df = df.dropna(subset=[\"salary\"])\n",
        "dropnull_df.show()\n",
        "filled_df = df.fillna({\"salary\":0})\n",
        "filled_df.show()"
      ],
      "metadata": {
        "colab": {
          "base_uri": "https://localhost:8080/"
        },
        "id": "25e-gUGyvTwf",
        "outputId": "521033a3-7925-40ba-f6e2-4ef3c7d7a19d"
      },
      "execution_count": 28,
      "outputs": [
        {
          "output_type": "stream",
          "name": "stdout",
          "text": [
            "+------+------+-----------+------+\n",
            "|emp_id|  name| department|salary|\n",
            "+------+------+-----------+------+\n",
            "|   101| Aditi|Engineering| 72000|\n",
            "|   103|  Neha|         HR| 60000|\n",
            "|   104| Arjun|      Sales| 48000|\n",
            "|   105| Priya|Engineering| 75000|\n",
            "|   106| Karan|      Sales| 50000|\n",
            "|   107| Meera|Engineering| 71000|\n",
            "|   108|Ishaan|         HR| 50000|\n",
            "|   109| Tanya|Engineering| 73000|\n",
            "|   110| Varun|Engineering| 69000|\n",
            "+------+------+-----------+------+\n",
            "\n",
            "+------+------+-----------+------+\n",
            "|emp_id|  name| department|salary|\n",
            "+------+------+-----------+------+\n",
            "|   101| Aditi|         HR|     0|\n",
            "|   101| Aditi|Engineering| 72000|\n",
            "|   103|  Neha|         HR| 60000|\n",
            "|   104| Arjun|      Sales| 48000|\n",
            "|   105| Priya|Engineering| 75000|\n",
            "|   106| Karan|      Sales| 50000|\n",
            "|   107| Meera|Engineering| 71000|\n",
            "|   108|Ishaan|         HR| 50000|\n",
            "|   109| Tanya|Engineering| 73000|\n",
            "|   110| Varun|Engineering| 69000|\n",
            "+------+------+-----------+------+\n",
            "\n"
          ]
        }
      ]
    },
    {
      "cell_type": "code",
      "source": [
        "from pyspark.sql.functions import *"
      ],
      "metadata": {
        "id": "4QlHyNR-sjYf"
      },
      "execution_count": 10,
      "outputs": []
    },
    {
      "cell_type": "code",
      "source": [
        "filter_df = df.filter(col(\"salary\")>50000)\n",
        "filter_df.show()"
      ],
      "metadata": {
        "colab": {
          "base_uri": "https://localhost:8080/"
        },
        "id": "LekYEcppt25q",
        "outputId": "2a972660-60bf-491c-c354-cb520e675ac8"
      },
      "execution_count": 11,
      "outputs": [
        {
          "output_type": "stream",
          "name": "stdout",
          "text": [
            "+------+-----+-----------+------+\n",
            "|emp_id| name| department|salary|\n",
            "+------+-----+-----------+------+\n",
            "|   101|Aditi|         HR| 55000|\n",
            "|   102| Ravi|Engineering| 72000|\n",
            "|   103| Neha|         HR| 60000|\n",
            "|   105|Priya|Engineering| 75000|\n",
            "|   107|Meera|Engineering| 71000|\n",
            "|   109|Tanya|Engineering| 73000|\n",
            "|   110|Varun|Engineering| 69000|\n",
            "+------+-----+-----------+------+\n",
            "\n"
          ]
        }
      ]
    },
    {
      "cell_type": "code",
      "source": [
        "df = df.groupBy(\"department\").agg(avg(\"salary\").alias(\"avg\"),count(\"*\"))"
      ],
      "metadata": {
        "id": "36Ze88HCsOYP"
      },
      "execution_count": 12,
      "outputs": []
    },
    {
      "cell_type": "code",
      "source": [
        "df.show()"
      ],
      "metadata": {
        "colab": {
          "base_uri": "https://localhost:8080/"
        },
        "id": "ee9fC4tcsHh8",
        "outputId": "669d10ef-e011-44bd-ebd8-12f72fb8d317"
      },
      "execution_count": 13,
      "outputs": [
        {
          "output_type": "stream",
          "name": "stdout",
          "text": [
            "+-----------+-------+--------+\n",
            "| department|    avg|count(1)|\n",
            "+-----------+-------+--------+\n",
            "|      Sales|49000.0|       2|\n",
            "|Engineering|72000.0|       5|\n",
            "|         HR|55000.0|       3|\n",
            "+-----------+-------+--------+\n",
            "\n"
          ]
        }
      ]
    }
  ]
}