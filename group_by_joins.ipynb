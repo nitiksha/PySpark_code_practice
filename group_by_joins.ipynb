{
  "nbformat": 4,
  "nbformat_minor": 0,
  "metadata": {
    "colab": {
      "provenance": [],
      "authorship_tag": "ABX9TyPq/3xSDYqMKv1PDAZnOCug",
      "include_colab_link": true
    },
    "kernelspec": {
      "name": "python3",
      "display_name": "Python 3"
    },
    "language_info": {
      "name": "python"
    }
  },
  "cells": [
    {
      "cell_type": "markdown",
      "metadata": {
        "id": "view-in-github",
        "colab_type": "text"
      },
      "source": [
        "<a href=\"https://colab.research.google.com/github/nitiksha/PySpark_code_practice/blob/main/group_by_joins.ipynb\" target=\"_parent\"><img src=\"https://colab.research.google.com/assets/colab-badge.svg\" alt=\"Open In Colab\"/></a>"
      ]
    },
    {
      "cell_type": "code",
      "source": [
        "from pyspark.sql import SparkSession\n",
        "\n",
        "spark = SparkSession.builder.appName(\"StudentDataPractice\").getOrCreate()\n",
        "\n",
        "# DataFrame 1: Students info\n",
        "students_data = [\n",
        "    (1, \"Alice\", 20, \"Computer Science\"),\n",
        "    (2, \"Bob\", 22, \"Physics\"),\n",
        "    (3, \"Cathy\", 23, \"Mathematics\"),\n",
        "    (4, \"David\", 21, \"Computer Science\"),\n",
        "    (5, \"Eva\", 22, \"Physics\")\n",
        "]\n",
        "students_columns = [\"student_id\", \"name\", \"age\", \"major\"]\n",
        "\n",
        "students_df = spark.createDataFrame(students_data, students_columns)\n",
        "\n",
        "# DataFrame 2: Enrollment info\n",
        "enrollments_data = [\n",
        "    (1, \"CS101\", \"A\"),\n",
        "    (1, \"CS102\", \"B+\"),\n",
        "    (2, \"PH101\", \"B\"),\n",
        "    (3, \"MA101\", \"A-\"),\n",
        "    (4, \"CS101\", \"B\"),\n",
        "    (5, \"PH102\", \"A\"),\n",
        "    (5, \"CS101\", \"C\")\n",
        "]\n",
        "enrollments_columns = [\"student_id\", \"course_code\", \"grade\"]\n",
        "\n",
        "enrollments_df = spark.createDataFrame(enrollments_data, enrollments_columns)\n",
        "\n",
        "# Show data\n",
        "students_df.show()\n",
        "enrollments_df.show()\n",
        "\n",
        "# Now you can practice commands like joins, aggregations etc.\n",
        "\n",
        "# Example: Inner Join on student_id\n",
        "joined_df = students_df.join(enrollments_df, \"student_id\")\n",
        "joined_df.show()\n",
        "\n",
        "\n"
      ],
      "metadata": {
        "colab": {
          "base_uri": "https://localhost:8080/"
        },
        "id": "f0vwJk2-T-Qm",
        "outputId": "1c64630b-86e5-49be-f07e-fa5bb3c7d18a"
      },
      "execution_count": 4,
      "outputs": [
        {
          "output_type": "stream",
          "name": "stdout",
          "text": [
            "+----------+-----+---+----------------+\n",
            "|student_id| name|age|           major|\n",
            "+----------+-----+---+----------------+\n",
            "|         1|Alice| 20|Computer Science|\n",
            "|         2|  Bob| 22|         Physics|\n",
            "|         3|Cathy| 23|     Mathematics|\n",
            "|         4|David| 21|Computer Science|\n",
            "|         5|  Eva| 22|         Physics|\n",
            "+----------+-----+---+----------------+\n",
            "\n",
            "+----------+-----------+-----+\n",
            "|student_id|course_code|grade|\n",
            "+----------+-----------+-----+\n",
            "|         1|      CS101|    A|\n",
            "|         1|      CS102|   B+|\n",
            "|         2|      PH101|    B|\n",
            "|         3|      MA101|   A-|\n",
            "|         4|      CS101|    B|\n",
            "|         5|      PH102|    A|\n",
            "|         5|      CS101|    C|\n",
            "+----------+-----------+-----+\n",
            "\n",
            "+----------+-----+---+----------------+-----------+-----+\n",
            "|student_id| name|age|           major|course_code|grade|\n",
            "+----------+-----+---+----------------+-----------+-----+\n",
            "|         1|Alice| 20|Computer Science|      CS101|    A|\n",
            "|         1|Alice| 20|Computer Science|      CS102|   B+|\n",
            "|         2|  Bob| 22|         Physics|      PH101|    B|\n",
            "|         3|Cathy| 23|     Mathematics|      MA101|   A-|\n",
            "|         4|David| 21|Computer Science|      CS101|    B|\n",
            "|         5|  Eva| 22|         Physics|      PH102|    A|\n",
            "|         5|  Eva| 22|         Physics|      CS101|    C|\n",
            "+----------+-----+---+----------------+-----------+-----+\n",
            "\n"
          ]
        }
      ]
    },
    {
      "cell_type": "code",
      "source": [
        "groupby_df = joined_df.groupBy(\"age\").count()\n",
        "groupby_df.show()"
      ],
      "metadata": {
        "colab": {
          "base_uri": "https://localhost:8080/"
        },
        "id": "xEWwds19UQtp",
        "outputId": "dbb35466-c5c9-44f1-f718-e0f08bda04bb"
      },
      "execution_count": 5,
      "outputs": [
        {
          "output_type": "stream",
          "name": "stdout",
          "text": [
            "+-----+-----+\n",
            "| name|count|\n",
            "+-----+-----+\n",
            "|  Eva|    2|\n",
            "|  Bob|    1|\n",
            "|Alice|    2|\n",
            "|David|    1|\n",
            "|Cathy|    1|\n",
            "+-----+-----+\n",
            "\n"
          ]
        }
      ]
    },
    {
      "cell_type": "code",
      "source": [],
      "metadata": {
        "id": "93J_q17Mvi2t"
      },
      "execution_count": null,
      "outputs": []
    },
    {
      "cell_type": "code",
      "source": [
        "joined_df1 = students_df.join(enrollments_df, students_df[\"student_id\"] == enrollments_df[\"student_id\"],\"left\")\n",
        "joined_df1.show()"
      ],
      "metadata": {
        "colab": {
          "base_uri": "https://localhost:8080/"
        },
        "id": "owFBh2juU-x2",
        "outputId": "ae80dd27-9455-4bc3-ee25-8c9ec99f4eb2"
      },
      "execution_count": 8,
      "outputs": [
        {
          "output_type": "stream",
          "name": "stdout",
          "text": [
            "+----------+-----+---+----------------+----------+-----------+-----+\n",
            "|student_id| name|age|           major|student_id|course_code|grade|\n",
            "+----------+-----+---+----------------+----------+-----------+-----+\n",
            "|         1|Alice| 20|Computer Science|         1|      CS102|   B+|\n",
            "|         1|Alice| 20|Computer Science|         1|      CS101|    A|\n",
            "|         2|  Bob| 22|         Physics|         2|      PH101|    B|\n",
            "|         5|  Eva| 22|         Physics|         5|      CS101|    C|\n",
            "|         5|  Eva| 22|         Physics|         5|      PH102|    A|\n",
            "|         3|Cathy| 23|     Mathematics|         3|      MA101|   A-|\n",
            "|         4|David| 21|Computer Science|         4|      CS101|    B|\n",
            "+----------+-----+---+----------------+----------+-----------+-----+\n",
            "\n"
          ]
        }
      ]
    }
  ]
}