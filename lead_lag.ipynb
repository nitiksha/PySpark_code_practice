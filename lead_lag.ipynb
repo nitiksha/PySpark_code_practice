{
  "nbformat": 4,
  "nbformat_minor": 0,
  "metadata": {
    "colab": {
      "provenance": [],
      "authorship_tag": "ABX9TyMIltwXZw+Nj/Mg6an4fIEN",
      "include_colab_link": true
    },
    "kernelspec": {
      "name": "python3",
      "display_name": "Python 3"
    },
    "language_info": {
      "name": "python"
    }
  },
  "cells": [
    {
      "cell_type": "markdown",
      "metadata": {
        "id": "view-in-github",
        "colab_type": "text"
      },
      "source": [
        "<a href=\"https://colab.research.google.com/github/nitiksha/PySpark_code_practice/blob/main/lead_lag.ipynb\" target=\"_parent\"><img src=\"https://colab.research.google.com/assets/colab-badge.svg\" alt=\"Open In Colab\"/></a>"
      ]
    },
    {
      "cell_type": "code",
      "execution_count": 1,
      "metadata": {
        "id": "b2XgpwF2iELc"
      },
      "outputs": [],
      "source": [
        "from pyspark.sql import SparkSession, Window\n",
        "import pyspark.sql.functions as F\n",
        "\n",
        "# Sample data\n",
        "data = [\n",
        "    (1, \"2015-01-01\", 10),\n",
        "    (2, \"2015-01-02\", 25),\n",
        "    (3, \"2015-01-03\", 20),\n",
        "    (4, \"2015-01-04\", 30),\n",
        "]\n",
        "columns = [\"id\", \"recordDate\", \"temperature\"]\n",
        "\n",
        "# Create DataFrame\n",
        "spark = SparkSession.builder.getOrCreate()\n",
        "df = spark.createDataFrame(data, columns)"
      ]
    },
    {
      "cell_type": "code",
      "source": [
        "window_spec = Window.orderBy(F.col('recordDate').asc())"
      ],
      "metadata": {
        "id": "EUt3l_R8iJQM"
      },
      "execution_count": 12,
      "outputs": []
    },
    {
      "cell_type": "code",
      "source": [
        "df = df.withColumn(\"lag_date\",F.lag('recordDate',1).over(window_spec))\\\n",
        "          .withColumn(\"lead_temp\",F.lead('temperature',1).over(window_spec))"
      ],
      "metadata": {
        "id": "h7ipc6FgiYvW"
      },
      "execution_count": 13,
      "outputs": []
    },
    {
      "cell_type": "code",
      "source": [
        "df.show()"
      ],
      "metadata": {
        "colab": {
          "base_uri": "https://localhost:8080/"
        },
        "id": "BxTs5Vtoj_9U",
        "outputId": "c21593dd-6c62-4c3f-f5f4-3e576feee8dc"
      },
      "execution_count": 14,
      "outputs": [
        {
          "output_type": "stream",
          "name": "stdout",
          "text": [
            "+---+----------+-----------+----------+---------+\n",
            "| id|recordDate|temperature|  lag_date|lead_temp|\n",
            "+---+----------+-----------+----------+---------+\n",
            "|  1|2015-01-01|         10|      NULL|       25|\n",
            "|  2|2015-01-02|         25|2015-01-01|       20|\n",
            "|  3|2015-01-03|         20|2015-01-02|       30|\n",
            "|  4|2015-01-04|         30|2015-01-03|     NULL|\n",
            "+---+----------+-----------+----------+---------+\n",
            "\n"
          ]
        }
      ]
    },
    {
      "cell_type": "code",
      "source": [
        "df = df.filter((F.datediff(F.col('recordDate'),F.col('lag_date')) == 1)  & (F.col('lead_temp')>F.col('temperature')))"
      ],
      "metadata": {
        "id": "stf_m0bIkCCU"
      },
      "execution_count": 23,
      "outputs": []
    },
    {
      "cell_type": "code",
      "source": [
        "df.show()"
      ],
      "metadata": {
        "colab": {
          "base_uri": "https://localhost:8080/"
        },
        "id": "9oyhravmkgiX",
        "outputId": "25b76819-87f9-4f42-83fa-6578e7f501d2"
      },
      "execution_count": 24,
      "outputs": [
        {
          "output_type": "stream",
          "name": "stdout",
          "text": [
            "+---+----------+-----------+----------+---------+\n",
            "| id|recordDate|temperature|  lag_date|lead_temp|\n",
            "+---+----------+-----------+----------+---------+\n",
            "|  3|2015-01-03|         20|2015-01-02|       30|\n",
            "+---+----------+-----------+----------+---------+\n",
            "\n"
          ]
        }
      ]
    }
  ]
}