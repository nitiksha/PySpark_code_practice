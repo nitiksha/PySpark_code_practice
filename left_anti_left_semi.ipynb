{
  "nbformat": 4,
  "nbformat_minor": 0,
  "metadata": {
    "colab": {
      "provenance": [],
      "authorship_tag": "ABX9TyPAzh1XBxnwZt+QRkrdhuBx",
      "include_colab_link": true
    },
    "kernelspec": {
      "name": "python3",
      "display_name": "Python 3"
    },
    "language_info": {
      "name": "python"
    }
  },
  "cells": [
    {
      "cell_type": "markdown",
      "metadata": {
        "id": "view-in-github",
        "colab_type": "text"
      },
      "source": [
        "<a href=\"https://colab.research.google.com/github/nitiksha/PySpark_code_practice/blob/main/left_anti_left_semi.ipynb\" target=\"_parent\"><img src=\"https://colab.research.google.com/assets/colab-badge.svg\" alt=\"Open In Colab\"/></a>"
      ]
    },
    {
      "cell_type": "code",
      "execution_count": 1,
      "metadata": {
        "colab": {
          "base_uri": "https://localhost:8080/"
        },
        "id": "83T4t0xLyLkz",
        "outputId": "93ab791b-c959-4444-f87b-9826ee5c4d6e"
      },
      "outputs": [
        {
          "output_type": "stream",
          "name": "stdout",
          "text": [
            "+---+-------+---------+\n",
            "| ID|   Name|  Company|\n",
            "+---+-------+---------+\n",
            "|  1| sravan|company 1|\n",
            "|  2| ojaswi|company 1|\n",
            "|  3| rohith|company 2|\n",
            "|  4|sridevi|company 1|\n",
            "|  5|  bobby|company 1|\n",
            "+---+-------+---------+\n",
            "\n"
          ]
        }
      ],
      "source": [
        "from pyspark.sql import SparkSession\n",
        "\n",
        "spark = SparkSession.builder.appName('DataFrames').getOrCreate()\n",
        "\n",
        "employee_data = [\n",
        "    (1, \"sravan\", \"company 1\"),\n",
        "    (2, \"ojaswi\", \"company 1\"),\n",
        "    (3, \"rohith\", \"company 2\"),\n",
        "    (4, \"sridevi\", \"company 1\"),\n",
        "    (5, \"bobby\", \"company 1\")\n",
        "]\n",
        "employee_columns = [\"ID\", \"Name\", \"Company\"]\n",
        "\n",
        "employee_df = spark.createDataFrame(employee_data, employee_columns)\n",
        "employee_df.show()\n"
      ]
    },
    {
      "cell_type": "code",
      "source": [
        "salary_data = [\n",
        "    (1, 45000, \"IT\"),\n",
        "    (2, 145000, \"Manager\"),\n",
        "    (6, 45000, \"HR\"),\n",
        "    (5, 34000, \"Sales\")\n",
        "]\n",
        "salary_columns = [\"ID\", \"Salary\", \"Department\"]\n",
        "\n",
        "salary_df = spark.createDataFrame(salary_data, salary_columns)\n",
        "salary_df.show()\n"
      ],
      "metadata": {
        "colab": {
          "base_uri": "https://localhost:8080/"
        },
        "id": "BT47B8fEyQNY",
        "outputId": "78f5854d-e158-4b74-ed85-e34c05835ee4"
      },
      "execution_count": 2,
      "outputs": [
        {
          "output_type": "stream",
          "name": "stdout",
          "text": [
            "+---+------+----------+\n",
            "| ID|Salary|Department|\n",
            "+---+------+----------+\n",
            "|  1| 45000|        IT|\n",
            "|  2|145000|   Manager|\n",
            "|  6| 45000|        HR|\n",
            "|  5| 34000|     Sales|\n",
            "+---+------+----------+\n",
            "\n"
          ]
        }
      ]
    },
    {
      "cell_type": "code",
      "source": [
        "bonus_data = [\n",
        "    (1, 5000),\n",
        "    (2, 7000),\n",
        "    (3, 0),\n",
        "    (5, 12000)\n",
        "]\n",
        "bonus_columns = [\"worker_ref_id\", \"bonus_amount\"]\n",
        "\n",
        "bonus_df = spark.createDataFrame(bonus_data, bonus_columns)\n",
        "bonus_df.show()\n"
      ],
      "metadata": {
        "colab": {
          "base_uri": "https://localhost:8080/"
        },
        "id": "iw3H2BmUySDF",
        "outputId": "4289b983-a384-4ac2-871c-646358e889bb"
      },
      "execution_count": 3,
      "outputs": [
        {
          "output_type": "stream",
          "name": "stdout",
          "text": [
            "+-------------+------------+\n",
            "|worker_ref_id|bonus_amount|\n",
            "+-------------+------------+\n",
            "|            1|        5000|\n",
            "|            2|        7000|\n",
            "|            3|           0|\n",
            "|            5|       12000|\n",
            "+-------------+------------+\n",
            "\n"
          ]
        }
      ]
    },
    {
      "cell_type": "markdown",
      "source": [
        "Question 1: Dirty Join Detection**\n",
        "  - Find all employees who do not have a matching record in the salary table and return their names and company. Which join would solve this most efficiently?[4][5]"
      ],
      "metadata": {
        "id": "Myk-GgXUyccf"
      }
    },
    {
      "cell_type": "code",
      "source": [
        "join_df = employee_df.join(salary_df,employee_df[\"ID\"]==salary_df[\"ID\"],\"left_anti\")\n",
        "join_df.show()"
      ],
      "metadata": {
        "colab": {
          "base_uri": "https://localhost:8080/"
        },
        "id": "nMGtQOyYygwQ",
        "outputId": "8b0fcc4c-988d-4b55-8505-a90825f112c4"
      },
      "execution_count": 4,
      "outputs": [
        {
          "output_type": "stream",
          "name": "stdout",
          "text": [
            "+---+-------+---------+\n",
            "| ID|   Name|  Company|\n",
            "+---+-------+---------+\n",
            "|  3| rohith|company 2|\n",
            "|  4|sridevi|company 1|\n",
            "+---+-------+---------+\n",
            "\n"
          ]
        }
      ]
    },
    {
      "cell_type": "markdown",
      "source": [
        "Join on Multiple Columns\n",
        "Question: Join employee and salary tables on both ID and Company columns."
      ],
      "metadata": {
        "id": "sAZMbTlFzfS-"
      }
    },
    {
      "cell_type": "code",
      "source": [
        "multi_join_df = employee_df.join(salary_df,employee_df[\"ID\"]==salary_df[\"ID\"],\"left_anti\")\n",
        "multi_join_df.show()"
      ],
      "metadata": {
        "colab": {
          "base_uri": "https://localhost:8080/"
        },
        "id": "_Z7-5eEtzmAj",
        "outputId": "53a4cd3e-2d38-473f-e7e7-83ce451ce806"
      },
      "execution_count": 5,
      "outputs": [
        {
          "output_type": "stream",
          "name": "stdout",
          "text": [
            "+---+-------+---------+\n",
            "| ID|   Name|  Company|\n",
            "+---+-------+---------+\n",
            "|  3| rohith|company 2|\n",
            "|  4|sridevi|company 1|\n",
            "+---+-------+---------+\n",
            "\n"
          ]
        }
      ]
    },
    {
      "cell_type": "markdown",
      "source": [
        "Question (a): Find employees who do have a salary record."
      ],
      "metadata": {
        "id": "_NlhA6_7zjWo"
      }
    },
    {
      "cell_type": "code",
      "source": [
        "hv_sal_df = employee_df.join(salary_df,employee_df[\"ID\"]==salary_df[\"ID\"],\"left_semi\")\n",
        "hv_sal_df.show()"
      ],
      "metadata": {
        "colab": {
          "base_uri": "https://localhost:8080/"
        },
        "id": "LQsq48c00xqe",
        "outputId": "f0af6fea-0303-41f9-8595-9e6959dfa54d"
      },
      "execution_count": 6,
      "outputs": [
        {
          "output_type": "stream",
          "name": "stdout",
          "text": [
            "+---+------+---------+\n",
            "| ID|  Name|  Company|\n",
            "+---+------+---------+\n",
            "|  1|sravan|company 1|\n",
            "|  2|ojaswi|company 1|\n",
            "|  5| bobby|company 1|\n",
            "+---+------+---------+\n",
            "\n"
          ]
        }
      ]
    },
    {
      "cell_type": "markdown",
      "source": [],
      "metadata": {
        "id": "DAHix3E41Ps0"
      }
    },
    {
      "cell_type": "markdown",
      "source": [
        "Question (a):no salary record\n"
      ],
      "metadata": {
        "id": "anUhH0Hh09lK"
      }
    },
    {
      "cell_type": "code",
      "source": [
        "no_sal_df = employee_df.join(salary_df,employee_df[\"ID\"]==salary_df[\"ID\"],\"left_anti\")\n",
        "no_sal_df.show()"
      ],
      "metadata": {
        "colab": {
          "base_uri": "https://localhost:8080/"
        },
        "id": "0BTjS82K1AhN",
        "outputId": "c68a9531-7127-4308-c753-3196006143fa"
      },
      "execution_count": 7,
      "outputs": [
        {
          "output_type": "stream",
          "name": "stdout",
          "text": [
            "+---+-------+---------+\n",
            "| ID|   Name|  Company|\n",
            "+---+-------+---------+\n",
            "|  3| rohith|company 2|\n",
            "|  4|sridevi|company 1|\n",
            "+---+-------+---------+\n",
            "\n"
          ]
        }
      ]
    },
    {
      "cell_type": "code",
      "source": [
        "unioned_df = employee_df.union(salary_df).distinct()  # Removes duplicates\n",
        "unioned_df.show()\n",
        "union_all_df = employee_df.union(salary_df)\n",
        "union_all_df.show()"
      ],
      "metadata": {
        "colab": {
          "base_uri": "https://localhost:8080/"
        },
        "id": "fqIzvP6x1oPc",
        "outputId": "14930e2d-df0d-4281-e183-698d52bdb8b7"
      },
      "execution_count": 8,
      "outputs": [
        {
          "output_type": "stream",
          "name": "stdout",
          "text": [
            "+---+-------+---------+\n",
            "| ID|   Name|  Company|\n",
            "+---+-------+---------+\n",
            "|  2| ojaswi|company 1|\n",
            "|  1| sravan|company 1|\n",
            "|  3| rohith|company 2|\n",
            "|  4|sridevi|company 1|\n",
            "|  5|  bobby|company 1|\n",
            "|  1|  45000|       IT|\n",
            "|  2| 145000|  Manager|\n",
            "|  6|  45000|       HR|\n",
            "|  5|  34000|    Sales|\n",
            "+---+-------+---------+\n",
            "\n",
            "+---+-------+---------+\n",
            "| ID|   Name|  Company|\n",
            "+---+-------+---------+\n",
            "|  1| sravan|company 1|\n",
            "|  2| ojaswi|company 1|\n",
            "|  3| rohith|company 2|\n",
            "|  4|sridevi|company 1|\n",
            "|  5|  bobby|company 1|\n",
            "|  1|  45000|       IT|\n",
            "|  2| 145000|  Manager|\n",
            "|  6|  45000|       HR|\n",
            "|  5|  34000|    Sales|\n",
            "+---+-------+---------+\n",
            "\n"
          ]
        }
      ]
    }
  ]
}