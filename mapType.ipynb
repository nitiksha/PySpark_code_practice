{
  "nbformat": 4,
  "nbformat_minor": 0,
  "metadata": {
    "colab": {
      "provenance": [],
      "authorship_tag": "ABX9TyNeVkMCLE0ij4K9jKDJP9GQ",
      "include_colab_link": true
    },
    "kernelspec": {
      "name": "python3",
      "display_name": "Python 3"
    },
    "language_info": {
      "name": "python"
    }
  },
  "cells": [
    {
      "cell_type": "markdown",
      "metadata": {
        "id": "view-in-github",
        "colab_type": "text"
      },
      "source": [
        "<a href=\"https://colab.research.google.com/github/nitiksha/PySpark_code_practice/blob/main/mapType.ipynb\" target=\"_parent\"><img src=\"https://colab.research.google.com/assets/colab-badge.svg\" alt=\"Open In Colab\"/></a>"
      ]
    },
    {
      "cell_type": "code",
      "source": [
        "from pyspark.sql import SparkSession\n",
        "from pyspark.sql.types import StringType,MapType,IntegerType,StructField,StructType"
      ],
      "metadata": {
        "id": "Ih-DUU_Gq466"
      },
      "execution_count": 1,
      "outputs": []
    },
    {
      "cell_type": "code",
      "source": [
        "# Initialize SparkSession\n",
        "spark = SparkSession.builder.appName(\"MapTypePractice\").getOrCreate()"
      ],
      "metadata": {
        "id": "o6spoNMdrQp8"
      },
      "execution_count": 2,
      "outputs": []
    },
    {
      "cell_type": "code",
      "execution_count": 3,
      "metadata": {
        "id": "a9pUpL7XqyUF"
      },
      "outputs": [],
      "source": [
        "# Sample data with MapType column\n",
        "data = [\n",
        "    (1, {\"math\": 85, \"english\": 78}),\n",
        "    (2, {\"math\": 90, \"science\": 88}),\n",
        "    (3, {\"english\": 82, \"history\": 91}),\n",
        "]"
      ]
    },
    {
      "cell_type": "code",
      "source": [
        "schema= StructType([StructField(\"id\",IntegerType(),True),StructField(\"info\",MapType(StringType(),StringType(),True))])"
      ],
      "metadata": {
        "id": "rYFYV-qwrXqo"
      },
      "execution_count": 5,
      "outputs": []
    },
    {
      "cell_type": "code",
      "source": [
        "# Create DataFrame\n",
        "df = spark.createDataFrame(data, schema)"
      ],
      "metadata": {
        "id": "PeYNJhs_rXFI"
      },
      "execution_count": 6,
      "outputs": []
    },
    {
      "cell_type": "code",
      "source": [
        "df.show(truncate=False)"
      ],
      "metadata": {
        "colab": {
          "base_uri": "https://localhost:8080/"
        },
        "id": "ZZuJ6sP1sRRu",
        "outputId": "b71bfe76-ebfe-4bd1-bf35-ecfc2f934c7d"
      },
      "execution_count": 8,
      "outputs": [
        {
          "output_type": "stream",
          "name": "stdout",
          "text": [
            "+---+------------------------------+\n",
            "|id |info                          |\n",
            "+---+------------------------------+\n",
            "|1  |{english -> 78, math -> 85}   |\n",
            "|2  |{science -> 88, math -> 90}   |\n",
            "|3  |{english -> 82, history -> 91}|\n",
            "+---+------------------------------+\n",
            "\n"
          ]
        }
      ]
    }
  ]
}