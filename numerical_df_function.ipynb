{
  "nbformat": 4,
  "nbformat_minor": 0,
  "metadata": {
    "colab": {
      "provenance": [],
      "authorship_tag": "ABX9TyNmbrGN74Tiuqy5o1QQNKp8",
      "include_colab_link": true
    },
    "kernelspec": {
      "name": "python3",
      "display_name": "Python 3"
    },
    "language_info": {
      "name": "python"
    }
  },
  "cells": [
    {
      "cell_type": "markdown",
      "metadata": {
        "id": "view-in-github",
        "colab_type": "text"
      },
      "source": [
        "<a href=\"https://colab.research.google.com/github/nitiksha/PySpark_code_practice/blob/main/numerical_df_function.ipynb\" target=\"_parent\"><img src=\"https://colab.research.google.com/assets/colab-badge.svg\" alt=\"Open In Colab\"/></a>"
      ]
    },
    {
      "cell_type": "code",
      "execution_count": 1,
      "metadata": {
        "colab": {
          "base_uri": "https://localhost:8080/"
        },
        "id": "ss4FGXzckRcz",
        "outputId": "00bec530-80c4-44a0-d9b1-8a4c9e97d765"
      },
      "outputs": [
        {
          "output_type": "stream",
          "name": "stdout",
          "text": [
            "DataFrame for covar_pop practice:\n",
            "+--------+--------+\n",
            "|feature1|feature2|\n",
            "+--------+--------+\n",
            "|       1|      10|\n",
            "|       2|      20|\n",
            "|       3|      30|\n",
            "|       4|      40|\n",
            "|       5|      50|\n",
            "+--------+--------+\n",
            "\n"
          ]
        }
      ],
      "source": [
        "from pyspark.sql import SparkSession\n",
        "import pyspark.sql.functions as F\n",
        "\n",
        "# Initialize SparkSession\n",
        "spark = SparkSession.builder.appName(\"CovarPopPractice\").getOrCreate()\n",
        "\n",
        "# Sample numeric data\n",
        "data = [\n",
        "    (1, 10),\n",
        "    (2, 20),\n",
        "    (3, 30),\n",
        "    (4, 40),\n",
        "    (5, 50)\n",
        "]\n",
        "\n",
        "columns = [\"feature1\", \"feature2\"]\n",
        "\n",
        "# Create DataFrame\n",
        "df = spark.createDataFrame(data, columns)\n",
        "\n",
        "print(\"DataFrame for covar_pop practice:\")\n",
        "df.show()\n",
        "\n",
        "\n"
      ]
    },
    {
      "cell_type": "code",
      "source": [
        "df.select(F.covar_pop(\"feature1\",\"feature2\")).show()"
      ],
      "metadata": {
        "colab": {
          "base_uri": "https://localhost:8080/"
        },
        "id": "CRSSK8a2kaIg",
        "outputId": "a518494f-e7d8-43b2-f36b-b8684646e146"
      },
      "execution_count": 2,
      "outputs": [
        {
          "output_type": "stream",
          "name": "stdout",
          "text": [
            "+-----------------------------+\n",
            "|covar_pop(feature1, feature2)|\n",
            "+-----------------------------+\n",
            "|                         20.0|\n",
            "+-----------------------------+\n",
            "\n"
          ]
        }
      ]
    }
  ]
}