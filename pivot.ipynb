{
  "nbformat": 4,
  "nbformat_minor": 0,
  "metadata": {
    "colab": {
      "provenance": [],
      "authorship_tag": "ABX9TyOAMVMpQeG61HTqvT0WT9Ac",
      "include_colab_link": true
    },
    "kernelspec": {
      "name": "python3",
      "display_name": "Python 3"
    },
    "language_info": {
      "name": "python"
    }
  },
  "cells": [
    {
      "cell_type": "markdown",
      "metadata": {
        "id": "view-in-github",
        "colab_type": "text"
      },
      "source": [
        "<a href=\"https://colab.research.google.com/github/nitiksha/PySpark_code_practice/blob/main/pivot.ipynb\" target=\"_parent\"><img src=\"https://colab.research.google.com/assets/colab-badge.svg\" alt=\"Open In Colab\"/></a>"
      ]
    },
    {
      "cell_type": "code",
      "execution_count": 1,
      "metadata": {
        "colab": {
          "base_uri": "https://localhost:8080/"
        },
        "id": "0NupEHDSi0kq",
        "outputId": "5152bf39-ce88-445e-f001-80d09f8e7788"
      },
      "outputs": [
        {
          "output_type": "stream",
          "name": "stdout",
          "text": [
            "Original DataFrame:\n",
            "+------+-----------+------+\n",
            "| store|   category|amount|\n",
            "+------+-----------+------+\n",
            "|Store1|Electronics|   100|\n",
            "|Store1|   Clothing|   150|\n",
            "|Store2|Electronics|   200|\n",
            "|Store2|   Clothing|   100|\n",
            "|Store2|  Groceries|   250|\n",
            "|Store3|  Groceries|   300|\n",
            "+------+-----------+------+\n",
            "\n"
          ]
        }
      ],
      "source": [
        "from pyspark.sql import SparkSession\n",
        "\n",
        "# Initialize SparkSession\n",
        "spark = SparkSession.builder.appName(\"PivotExample\").getOrCreate()\n",
        "\n",
        "# Sample data: sales data with store, category, and amount\n",
        "data = [\n",
        "    (\"Store1\", \"Electronics\", 100),\n",
        "    (\"Store1\", \"Clothing\", 150),\n",
        "    (\"Store2\", \"Electronics\", 200),\n",
        "    (\"Store2\", \"Clothing\", 100),\n",
        "    (\"Store2\", \"Groceries\", 250),\n",
        "    (\"Store3\", \"Groceries\", 300)\n",
        "]\n",
        "columns = [\"store\", \"category\", \"amount\"]\n",
        "\n",
        "# Create DataFrame\n",
        "df = spark.createDataFrame(data, columns)\n",
        "\n",
        "print(\"Original DataFrame:\")\n",
        "df.show()"
      ]
    },
    {
      "cell_type": "code",
      "source": [
        "pivot_df = df.groupBy(\"category\").pivot(\"store\").sum(\"amount\")\n",
        "pivot_df.show()\n",
        "\n",
        "#2 ways of writing aggregate function in pivot\n",
        "\n",
        "pivot_df_agg = df.groupBy(\"category\").pivot(\"store\").agg({\"amount\":\"sum\"})\n",
        "pivot_df_agg.show()"
      ],
      "metadata": {
        "colab": {
          "base_uri": "https://localhost:8080/"
        },
        "id": "9gXNbGuli-bO",
        "outputId": "62964c76-904b-411a-d336-ad393d7bcc8a"
      },
      "execution_count": 7,
      "outputs": [
        {
          "output_type": "stream",
          "name": "stdout",
          "text": [
            "+-----------+------+------+------+\n",
            "|   category|Store1|Store2|Store3|\n",
            "+-----------+------+------+------+\n",
            "|  Groceries|  NULL|   250|   300|\n",
            "|Electronics|   100|   200|  NULL|\n",
            "|   Clothing|   150|   100|  NULL|\n",
            "+-----------+------+------+------+\n",
            "\n",
            "+-----------+------+------+------+\n",
            "|   category|Store1|Store2|Store3|\n",
            "+-----------+------+------+------+\n",
            "|  Groceries|  NULL|   250|   300|\n",
            "|Electronics|   100|   200|  NULL|\n",
            "|   Clothing|   150|   100|  NULL|\n",
            "+-----------+------+------+------+\n",
            "\n"
          ]
        }
      ]
    },
    {
      "cell_type": "markdown",
      "source": [
        ".agg() with dict\tMultiple columns, multiple aggregations"
      ],
      "metadata": {
        "id": "k7GKcqWalRhL"
      }
    }
  ]
}