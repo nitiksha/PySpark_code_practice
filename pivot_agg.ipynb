{
  "nbformat": 4,
  "nbformat_minor": 0,
  "metadata": {
    "colab": {
      "provenance": [],
      "authorship_tag": "ABX9TyP293XYjONr/i6x/RMuXVCz",
      "include_colab_link": true
    },
    "kernelspec": {
      "name": "python3",
      "display_name": "Python 3"
    },
    "language_info": {
      "name": "python"
    }
  },
  "cells": [
    {
      "cell_type": "markdown",
      "metadata": {
        "id": "view-in-github",
        "colab_type": "text"
      },
      "source": [
        "<a href=\"https://colab.research.google.com/github/nitiksha/PySpark_code_practice/blob/main/pivot_agg.ipynb\" target=\"_parent\"><img src=\"https://colab.research.google.com/assets/colab-badge.svg\" alt=\"Open In Colab\"/></a>"
      ]
    },
    {
      "cell_type": "code",
      "execution_count": 3,
      "metadata": {
        "colab": {
          "base_uri": "https://localhost:8080/"
        },
        "id": "O1-uhoNclmr1",
        "outputId": "ff3b2021-d6cb-40ed-8723-1ccef9b08ecd"
      },
      "outputs": [
        {
          "output_type": "stream",
          "name": "stdout",
          "text": [
            "Original DataFrame:\n",
            "+--------+----------+------+\n",
            "|employee|department|salary|\n",
            "+--------+----------+------+\n",
            "|   Alice|        HR| 50000|\n",
            "|     Bob|        IT| 60000|\n",
            "|   Cathy|        HR| 55000|\n",
            "|   Alice|        IT| 70000|\n",
            "|     Bob|        HR| 52000|\n",
            "|   Cathy|        IT| 65000|\n",
            "+--------+----------+------+\n",
            "\n",
            "Pivot with sum aggregation:\n",
            "+--------+-----+-----+\n",
            "|employee|   HR|   IT|\n",
            "+--------+-----+-----+\n",
            "|     Bob|52000|60000|\n",
            "|   Alice|50000|70000|\n",
            "|   Cathy|55000|65000|\n",
            "+--------+-----+-----+\n",
            "\n",
            "Pivot with sum and avg aggregations:\n",
            "+--------+---------------+-------------+---------------+-------------+\n",
            "|employee|HR_total_salary|HR_avg_salary|IT_total_salary|IT_avg_salary|\n",
            "+--------+---------------+-------------+---------------+-------------+\n",
            "|     Bob|          52000|      52000.0|          60000|      60000.0|\n",
            "|   Alice|          50000|      50000.0|          70000|      70000.0|\n",
            "|   Cathy|          55000|      55000.0|          65000|      65000.0|\n",
            "+--------+---------------+-------------+---------------+-------------+\n",
            "\n"
          ]
        }
      ],
      "source": [
        "from pyspark.sql import SparkSession\n",
        "from pyspark.sql.functions import sum, avg\n",
        "\n",
        "# Create Spark Session\n",
        "spark = SparkSession.builder.appName(\"PivotAggPractice\").getOrCreate()\n",
        "\n",
        "# Sample sales data: employee, department, and salary\n",
        "data = [\n",
        "    (\"Alice\", \"HR\", 50000),\n",
        "    (\"Bob\", \"IT\", 60000),\n",
        "    (\"Cathy\", \"HR\", 55000),\n",
        "    (\"Alice\", \"IT\", 70000),\n",
        "    (\"Bob\", \"HR\", 52000),\n",
        "    (\"Cathy\", \"IT\", 65000)\n",
        "]\n",
        "columns = [\"employee\", \"department\", \"salary\"]\n",
        "\n",
        "# Create DataFrame\n",
        "df = spark.createDataFrame(data, columns)\n",
        "\n",
        "print(\"Original DataFrame:\")\n",
        "df.show()\n",
        "\n",
        "# Pivot with single aggregation: total salary per employee per department\n",
        "pivot_sum_df = df.groupBy(\"employee\").pivot(\"department\").sum(\"salary\")\n",
        "print(\"Pivot with sum aggregation:\")\n",
        "pivot_sum_df.show()\n",
        "\n",
        "# Pivot with multiple aggregations: sum and average salary\n",
        "pivot_multi_agg_df = df.groupBy(\"employee\").pivot(\"department\").agg(\n",
        "    sum(\"salary\").alias(\"total_salary\"),\n",
        "    avg(\"salary\").alias(\"avg_salary\")\n",
        ")\n",
        "print(\"Pivot with sum and avg aggregations:\")\n",
        "pivot_multi_agg_df.show()\n",
        "\n",
        "spark.stop()\n"
      ]
    }
  ]
}