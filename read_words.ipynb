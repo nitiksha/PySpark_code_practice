{
  "nbformat": 4,
  "nbformat_minor": 0,
  "metadata": {
    "colab": {
      "provenance": [],
      "authorship_tag": "ABX9TyPokwhUZEF9ucfLJM/yXtVz",
      "include_colab_link": true
    },
    "kernelspec": {
      "name": "python3",
      "display_name": "Python 3"
    },
    "language_info": {
      "name": "python"
    }
  },
  "cells": [
    {
      "cell_type": "markdown",
      "metadata": {
        "id": "view-in-github",
        "colab_type": "text"
      },
      "source": [
        "<a href=\"https://colab.research.google.com/github/nitiksha/PySpark_code_practice/blob/main/read_words.ipynb\" target=\"_parent\"><img src=\"https://colab.research.google.com/assets/colab-badge.svg\" alt=\"Open In Colab\"/></a>"
      ]
    },
    {
      "cell_type": "markdown",
      "source": [
        "Find the top N most frequent words in a large text file\n",
        "Problem Explanation:\n",
        "You are given a large text file. Your task is to count how frequently each word appears and\n",
        "return the top N most common words."
      ],
      "metadata": {
        "id": "ShtXcQ8SdURe"
      }
    },
    {
      "cell_type": "code",
      "source": [
        "from pyspark.sql import SparkSession\n",
        "from pyspark.sql.functions import *\n",
        "# Create Spark session\n",
        "spark = SparkSession.builder.appName(\"TopNWords\").getOrCreate()\n",
        "# Load text file"
      ],
      "metadata": {
        "id": "a-TKQfJqdWqm"
      },
      "execution_count": 48,
      "outputs": []
    },
    {
      "cell_type": "code",
      "source": [
        "df = spark.read.text('/Mar 03 4_42 PM.txt')\n",
        "df.show()"
      ],
      "metadata": {
        "colab": {
          "base_uri": "https://localhost:8080/"
        },
        "id": "SylPIJXZdfCy",
        "outputId": "82aeb1dc-14b5-4b7b-8495-a889b62e9bf5"
      },
      "execution_count": 49,
      "outputs": [
        {
          "output_type": "stream",
          "name": "stdout",
          "text": [
            "+--------------------+\n",
            "|               value|\n",
            "+--------------------+\n",
            "|=================...|\n",
            "|   🔴Start zookeeper|\n",
            "|=================...|\n",
            "|                    |\n",
            "|                    |\n",
            "|Go inside extract...|\n",
            "|Go inside bin folder|\n",
            "|Open cmd in that ...|\n",
            "|execute below com...|\n",
            "|                    |\n",
            "|          .\\zkserver|\n",
            "|                    |\n",
            "|                    |\n",
            "|                    |\n",
            "|=================...|\n",
            "|     🔴Start   Kafka|\n",
            "|=================...|\n",
            "|                    |\n",
            "|Extract and Go In...|\n",
            "|            Open cmd|\n",
            "+--------------------+\n",
            "only showing top 20 rows\n",
            "\n"
          ]
        }
      ]
    },
    {
      "cell_type": "code",
      "source": [
        "df = df.withColumn(\"Words\",explode(split('value','\\\\s+'))).drop('value')\n"
      ],
      "metadata": {
        "id": "1_Fjcdf_ek4e"
      },
      "execution_count": 50,
      "outputs": []
    },
    {
      "cell_type": "code",
      "source": [
        "df.show()"
      ],
      "metadata": {
        "colab": {
          "base_uri": "https://localhost:8080/"
        },
        "id": "_i5kFU6_hTJT",
        "outputId": "a459c0a4-6901-4df6-e01f-4228a3202530"
      },
      "execution_count": 51,
      "outputs": [
        {
          "output_type": "stream",
          "name": "stdout",
          "text": [
            "+--------------------+\n",
            "|               Words|\n",
            "+--------------------+\n",
            "|=================...|\n",
            "|             🔴Start|\n",
            "|           zookeeper|\n",
            "|=================...|\n",
            "|                    |\n",
            "|                    |\n",
            "|                  Go|\n",
            "|              inside|\n",
            "|           extracted|\n",
            "|           zookeeper|\n",
            "|                  Go|\n",
            "|              inside|\n",
            "|                 bin|\n",
            "|              folder|\n",
            "|                Open|\n",
            "|                 cmd|\n",
            "|                  in|\n",
            "|                that|\n",
            "|              Folder|\n",
            "|             execute|\n",
            "+--------------------+\n",
            "only showing top 20 rows\n",
            "\n"
          ]
        }
      ]
    },
    {
      "cell_type": "code",
      "source": [
        " df = df.filter(col('Words') != \"\")\\\n",
        "        .groupBy(col(\"Words\"))\\\n",
        "        .agg(count(\"*\").alias(\"count\"))\\\n",
        "        .orderBy(col(\"count\").desc())"
      ],
      "metadata": {
        "id": "V2SyR_5kijbp"
      },
      "execution_count": 55,
      "outputs": []
    },
    {
      "cell_type": "code",
      "source": [
        "df.show(10)"
      ],
      "metadata": {
        "colab": {
          "base_uri": "https://localhost:8080/"
        },
        "id": "TzY2DeMumuom",
        "outputId": "0f95d96c-bf98-4910-c57e-0be87be26ebf"
      },
      "execution_count": 56,
      "outputs": [
        {
          "output_type": "stream",
          "name": "stdout",
          "text": [
            "+--------------------+-----+\n",
            "|               Words|count|\n",
            "+--------------------+-----+\n",
            "|              folder|    1|\n",
            "|             --topic|    1|\n",
            "|               using|    1|\n",
            "|             Extract|    1|\n",
            "|         --zookeeper|    1|\n",
            "|                 for|    1|\n",
            "|                 bin|    1|\n",
            "|               below|    1|\n",
            "|      localhost:9092|    1|\n",
            "|kafka-console-con...|    1|\n",
            "+--------------------+-----+\n",
            "only showing top 10 rows\n",
            "\n"
          ]
        }
      ]
    },
    {
      "cell_type": "markdown",
      "source": [
        "Explanation:\n",
        "•  split splits each line into words.\n",
        "•  explode flattens nested word lists.\n",
        "•  groupBy().count() gets word frequency.\n",
        "•  orderBy(desc(\"count\")) sorts by frequency.\n",
        "•  limit(n) gets top N."
      ],
      "metadata": {
        "id": "MJSBo7pTnPiD"
      }
    }
  ]
}