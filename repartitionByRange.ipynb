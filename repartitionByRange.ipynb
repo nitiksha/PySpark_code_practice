{
  "nbformat": 4,
  "nbformat_minor": 0,
  "metadata": {
    "colab": {
      "provenance": [],
      "authorship_tag": "ABX9TyOD7mzbf97th1HwbMMLsQvL",
      "include_colab_link": true
    },
    "kernelspec": {
      "name": "python3",
      "display_name": "Python 3"
    },
    "language_info": {
      "name": "python"
    }
  },
  "cells": [
    {
      "cell_type": "markdown",
      "metadata": {
        "id": "view-in-github",
        "colab_type": "text"
      },
      "source": [
        "<a href=\"https://colab.research.google.com/github/nitiksha/PySpark_code_practice/blob/main/repartitionByRange.ipynb\" target=\"_parent\"><img src=\"https://colab.research.google.com/assets/colab-badge.svg\" alt=\"Open In Colab\"/></a>"
      ]
    },
    {
      "cell_type": "code",
      "execution_count": 3,
      "metadata": {
        "colab": {
          "base_uri": "https://localhost:8080/"
        },
        "id": "MW8aC8uPmniY",
        "outputId": "f217b2f7-5829-4fa8-b555-1c41f90766ad"
      },
      "outputs": [
        {
          "output_type": "stream",
          "name": "stdout",
          "text": [
            "DataFrame for partitioning practice:\n",
            "+---+-----+------+\n",
            "| id| name|salary|\n",
            "+---+-----+------+\n",
            "|  1|Alice|  2000|\n",
            "|  2|  Bob|  3000|\n",
            "|  3|Cathy|  4000|\n",
            "|  4|David|  2500|\n",
            "|  5|  Eva|  3500|\n",
            "+---+-----+------+\n",
            "\n",
            "+---+-----+------+\n",
            "| id| name|salary|\n",
            "+---+-----+------+\n",
            "|  1|Alice|  2000|\n",
            "|  2|  Bob|  3000|\n",
            "|  3|Cathy|  4000|\n",
            "|  4|David|  2500|\n",
            "|  5|  Eva|  3500|\n",
            "+---+-----+------+\n",
            "\n"
          ]
        }
      ],
      "source": [
        "from pyspark.sql import SparkSession\n",
        "\n",
        "# Initialize SparkSession\n",
        "spark = SparkSession.builder.appName(\"PartitionByPractice\").getOrCreate()\n",
        "\n",
        "# Sample data for practicing partitioning\n",
        "data = [\n",
        "    (1, \"Alice\", 2000),\n",
        "    (2, \"Bob\", 3000),\n",
        "    (3, \"Cathy\", 4000),\n",
        "    (4, \"David\", 2500),\n",
        "    (5, \"Eva\", 3500)\n",
        "]\n",
        "columns = [\"id\", \"name\", \"salary\"]\n",
        "\n",
        "# Create DataFrame\n",
        "df_from_rdd = spark.createDataFrame(data, columns)\n",
        "\n",
        "print(\"DataFrame for partitioning practice:\")\n",
        "df_from_rdd.show()\n",
        "\n",
        "# You can now try partitioning operations like:\n",
        "df_partitioned = df_from_rdd.repartitionByRange(3,\"id\")\n",
        "\n",
        "df_partitioned.show()\n",
        "\n",
        "spark.stop()\n"
      ]
    }
  ]
}