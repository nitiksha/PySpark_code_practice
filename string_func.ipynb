{
  "nbformat": 4,
  "nbformat_minor": 0,
  "metadata": {
    "colab": {
      "provenance": [],
      "authorship_tag": "ABX9TyNefNwEMr2Mexrk1jjUTd0A",
      "include_colab_link": true
    },
    "kernelspec": {
      "name": "python3",
      "display_name": "Python 3"
    },
    "language_info": {
      "name": "python"
    }
  },
  "cells": [
    {
      "cell_type": "markdown",
      "metadata": {
        "id": "view-in-github",
        "colab_type": "text"
      },
      "source": [
        "<a href=\"https://colab.research.google.com/github/nitiksha/PySpark_code_practice/blob/main/string_func.ipynb\" target=\"_parent\"><img src=\"https://colab.research.google.com/assets/colab-badge.svg\" alt=\"Open In Colab\"/></a>"
      ]
    },
    {
      "cell_type": "code",
      "execution_count": 36,
      "metadata": {
        "colab": {
          "base_uri": "https://localhost:8080/"
        },
        "id": "hqxT1-S2pE3j",
        "outputId": "c73dcbda-aa09-48c3-f204-a4c13537d643"
      },
      "outputs": [
        {
          "output_type": "stream",
          "name": "stdout",
          "text": [
            "+---+-------+\n",
            "| id|   name|\n",
            "+---+-------+\n",
            "|  1|  Alice|\n",
            "|  2|    Bob|\n",
            "|  3|  Alice|\n",
            "|  4|Charlie|\n",
            "+---+-------+\n",
            "\n",
            "+---+-------+----+----------+----------+\n",
            "| id|   name|rank|dense_rank|row_number|\n",
            "+---+-------+----+----------+----------+\n",
            "|  1|  Alice|   1|         1|         1|\n",
            "|  2|    Bob|   2|         2|         2|\n",
            "|  3|  Alice|   3|         3|         3|\n",
            "|  4|Charlie|   4|         4|         4|\n",
            "+---+-------+----+----------+----------+\n",
            "\n"
          ]
        }
      ],
      "source": [
        "from pyspark.sql import SparkSession\n",
        "from pyspark.sql.window import Window\n",
        "import pyspark.sql.functions as F\n",
        "\n",
        "\n",
        "# Create Spark session\n",
        "spark = SparkSession.builder.appName(\"WindowFunctionPractice\").getOrCreate()\n",
        "\n",
        "# Sample data: id and name columns\n",
        "data = [\n",
        "    (1, \"Alice\"),\n",
        "    (2, \"Bob\"),\n",
        "    (3, \"Alice\"),\n",
        "    (4, \"Charlie\")\n",
        "]\n",
        "\n",
        "columns = [\"id\", \"name\"]\n",
        "\n",
        "# Create DataFrame\n",
        "df = spark.createDataFrame(data, columns)\n",
        "\n",
        "# Show the DataFrame\n",
        "df.show()\n",
        "\n",
        "\n",
        "windowSpec = Window.orderBy('id')\n",
        "\n",
        "df.withColumns({\"rank\":F.rank().over(windowSpec),\"dense_rank\":F.dense_rank().over(windowSpec),\"row_number\":F.row_number().over(windowSpec)}).show()\n",
        "\n",
        "\n"
      ]
    },
    {
      "cell_type": "code",
      "source": [
        "df.withColumn('buckets',F.ntile(2).over(windowSpec)).show()\n",
        "df.withColumn('ntile', F.ntile(2).over(windowSpec)).show()"
      ],
      "metadata": {
        "colab": {
          "base_uri": "https://localhost:8080/"
        },
        "id": "oTyIMkGG7Wgu",
        "outputId": "42aad06a-5501-4b4d-80e0-6621c639a790"
      },
      "execution_count": 9,
      "outputs": [
        {
          "output_type": "stream",
          "name": "stdout",
          "text": [
            "+---+-------+-------+\n",
            "| id|   name|buckets|\n",
            "+---+-------+-------+\n",
            "|  1|  Alice|      1|\n",
            "|  2|    Bob|      1|\n",
            "|  3|  Alice|      2|\n",
            "|  4|Charlie|      2|\n",
            "+---+-------+-------+\n",
            "\n",
            "+---+-------+-----+\n",
            "| id|   name|ntile|\n",
            "+---+-------+-----+\n",
            "|  1|  Alice|    1|\n",
            "|  2|    Bob|    1|\n",
            "|  3|  Alice|    2|\n",
            "|  4|Charlie|    2|\n",
            "+---+-------+-----+\n",
            "\n"
          ]
        }
      ]
    },
    {
      "cell_type": "code",
      "source": [
        "df.withColumns({\"lead\":F.lead(\"id\").over(windowSpec),\"lag\":F.lag(\"id\").over(windowSpec),\"percent_rank\":F.percent_rank().over(windowSpec)}).show()\n",
        "\n"
      ],
      "metadata": {
        "colab": {
          "base_uri": "https://localhost:8080/"
        },
        "id": "CKWElgr783E1",
        "outputId": "1fc6f8e3-77ef-4d55-e7ea-d6b8dc543626"
      },
      "execution_count": 11,
      "outputs": [
        {
          "output_type": "stream",
          "name": "stdout",
          "text": [
            "+---+-------+----+----+------------------+\n",
            "| id|   name|lead| lag|      percent_rank|\n",
            "+---+-------+----+----+------------------+\n",
            "|  1|  Alice|   2|NULL|               0.0|\n",
            "|  2|    Bob|   3|   1|0.3333333333333333|\n",
            "|  3|  Alice|   4|   2|0.6666666666666666|\n",
            "|  4|Charlie|NULL|   3|               1.0|\n",
            "+---+-------+----+----+------------------+\n",
            "\n"
          ]
        }
      ]
    },
    {
      "cell_type": "code",
      "source": [
        "df.withColumns({\"full_name\":F.concat(\"id\",F.lit(\"doe\")),\"full_name_ws\": F.concat_ws(\" \",\"id\",F.lit(\"doe\")),\"ltrim\":F.trim(df[\"name\"])}).show()"
      ],
      "metadata": {
        "colab": {
          "base_uri": "https://localhost:8080/"
        },
        "id": "UmHTgg0-9xwt",
        "outputId": "f42f642e-4e00-4e42-d25d-b66e434b3f77"
      },
      "execution_count": 22,
      "outputs": [
        {
          "output_type": "stream",
          "name": "stdout",
          "text": [
            "+---+-------+---------+------------+-------+\n",
            "| id|   name|full_name|full_name_ws|  ltrim|\n",
            "+---+-------+---------+------------+-------+\n",
            "|  1|  Alice|     1doe|       1 doe|  Alice|\n",
            "|  2|    Bob|     2doe|       2 doe|    Bob|\n",
            "|  3|  Alice|     3doe|       3 doe|  Alice|\n",
            "|  4|Charlie|     4doe|       4 doe|Charlie|\n",
            "+---+-------+---------+------------+-------+\n",
            "\n"
          ]
        }
      ]
    },
    {
      "cell_type": "code",
      "source": [
        "df.withColumn(\"substr\",F.substring(F.col(\"name\"),1,3)).show()"
      ],
      "metadata": {
        "colab": {
          "base_uri": "https://localhost:8080/"
        },
        "id": "C_8HUvgBCF4R",
        "outputId": "98dc2a81-49e4-4196-8526-35ed78f70199"
      },
      "execution_count": 28,
      "outputs": [
        {
          "output_type": "stream",
          "name": "stdout",
          "text": [
            "+---+-------+------+\n",
            "| id|   name|substr|\n",
            "+---+-------+------+\n",
            "|  1|  Alice|   Ali|\n",
            "|  2|    Bob|   Bob|\n",
            "|  3|  Alice|   Ali|\n",
            "|  4|Charlie|   Cha|\n",
            "+---+-------+------+\n",
            "\n"
          ]
        }
      ]
    },
    {
      "cell_type": "code",
      "source": [
        "df1=df.withColumn(\"substr\",F.substring(F.col(\"name\"),1,3))\n",
        "df1.printSchema()\n",
        "df.printSchema()"
      ],
      "metadata": {
        "colab": {
          "base_uri": "https://localhost:8080/"
        },
        "id": "J2abpkjSDBLZ",
        "outputId": "489fe80b-f92d-4887-de96-9b27cb489190"
      },
      "execution_count": 38,
      "outputs": [
        {
          "output_type": "stream",
          "name": "stdout",
          "text": [
            "root\n",
            " |-- id: long (nullable = true)\n",
            " |-- name: string (nullable = true)\n",
            " |-- substr: string (nullable = true)\n",
            "\n",
            "root\n",
            " |-- id: long (nullable = true)\n",
            " |-- name: string (nullable = true)\n",
            "\n"
          ]
        }
      ]
    },
    {
      "cell_type": "code",
      "source": [
        "df1.withColumn(\"split\", F.split(F.col(\"substr\"), \"i\")).show(truncate=False)"
      ],
      "metadata": {
        "colab": {
          "base_uri": "https://localhost:8080/"
        },
        "id": "URrw4pGNEMJ6",
        "outputId": "3d90bc3b-bb27-4e3e-b9e2-150792004df6"
      },
      "execution_count": 39,
      "outputs": [
        {
          "output_type": "stream",
          "name": "stdout",
          "text": [
            "+---+-------+------+------+\n",
            "|id |name   |substr|split |\n",
            "+---+-------+------+------+\n",
            "|1  |Alice  |Ali   |[Al, ]|\n",
            "|2  |Bob    |Bob   |[Bob] |\n",
            "|3  |Alice  |Ali   |[Al, ]|\n",
            "|4  |Charlie|Cha   |[Cha] |\n",
            "+---+-------+------+------+\n",
            "\n"
          ]
        }
      ]
    }
  ]
}