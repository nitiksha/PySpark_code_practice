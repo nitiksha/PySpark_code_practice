{
  "nbformat": 4,
  "nbformat_minor": 0,
  "metadata": {
    "colab": {
      "provenance": [],
      "authorship_tag": "ABX9TyNVG+vVOb9nS4BD7iOiqCSj",
      "include_colab_link": true
    },
    "kernelspec": {
      "name": "python3",
      "display_name": "Python 3"
    },
    "language_info": {
      "name": "python"
    }
  },
  "cells": [
    {
      "cell_type": "markdown",
      "metadata": {
        "id": "view-in-github",
        "colab_type": "text"
      },
      "source": [
        "<a href=\"https://colab.research.google.com/github/nitiksha/PySpark_code_practice/blob/main/transform_pyspark3.ipynb\" target=\"_parent\"><img src=\"https://colab.research.google.com/assets/colab-badge.svg\" alt=\"Open In Colab\"/></a>"
      ]
    },
    {
      "cell_type": "code",
      "execution_count": 1,
      "metadata": {
        "colab": {
          "base_uri": "https://localhost:8080/"
        },
        "id": "rbnDa8w7BQcl",
        "outputId": "d572a251-59e9-41fe-e999-dcb8af342b90"
      },
      "outputs": [
        {
          "output_type": "stream",
          "name": "stdout",
          "text": [
            "+-----+------------+\n",
            "|value|double_value|\n",
            "+-----+------------+\n",
            "|    1|           2|\n",
            "|    2|           4|\n",
            "|    3|           6|\n",
            "+-----+------------+\n",
            "\n"
          ]
        }
      ],
      "source": [
        "from pyspark.sql import SparkSession\n",
        "from pyspark.sql.functions import col\n",
        "\n",
        "spark = SparkSession.builder.getOrCreate()\n",
        "df = spark.createDataFrame([(1,), (2,), (3,)], [\"value\"])\n",
        "\n",
        "def add_double_column(df):\n",
        "    return df.withColumn(\"double_value\", col(\"value\") * 2)\n",
        "\n",
        "df_new = df.transform(add_double_column)\n",
        "df_new.show()\n"
      ]
    },
    {
      "cell_type": "code",
      "source": [
        "df_applied = df_new.rdd.map(lambda row: (row.value * 200, row.double_value)).toDF([\"id\", \"name\"])\n",
        "df_applied.show()"
      ],
      "metadata": {
        "colab": {
          "base_uri": "https://localhost:8080/"
        },
        "id": "PxbK1o9zXnSf",
        "outputId": "005aad5e-d1f0-4c7f-bea2-2723cd33f78d"
      },
      "execution_count": 3,
      "outputs": [
        {
          "output_type": "stream",
          "name": "stdout",
          "text": [
            "+---+----+\n",
            "| id|name|\n",
            "+---+----+\n",
            "|200|   2|\n",
            "|400|   4|\n",
            "|600|   6|\n",
            "+---+----+\n",
            "\n"
          ]
        }
      ]
    }
  ]
}