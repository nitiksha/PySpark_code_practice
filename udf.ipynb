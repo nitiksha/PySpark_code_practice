{
  "nbformat": 4,
  "nbformat_minor": 0,
  "metadata": {
    "colab": {
      "provenance": [],
      "authorship_tag": "ABX9TyOcEBIR0Qt+hhLMee7fLOUP",
      "include_colab_link": true
    },
    "kernelspec": {
      "name": "python3",
      "display_name": "Python 3"
    },
    "language_info": {
      "name": "python"
    }
  },
  "cells": [
    {
      "cell_type": "markdown",
      "metadata": {
        "id": "view-in-github",
        "colab_type": "text"
      },
      "source": [
        "<a href=\"https://colab.research.google.com/github/nitiksha/PySpark_code_practice/blob/main/udf.ipynb\" target=\"_parent\"><img src=\"https://colab.research.google.com/assets/colab-badge.svg\" alt=\"Open In Colab\"/></a>"
      ]
    },
    {
      "cell_type": "code",
      "execution_count": 6,
      "metadata": {
        "id": "zyPFWnjA5A0m"
      },
      "outputs": [],
      "source": [
        "from pyspark.sql.functions import udf\n",
        "from pyspark.sql import SparkSession\n",
        "from pyspark.sql.types import IntegerType\n",
        "\n",
        "spark= SparkSession.builder.appName(\"udf\").getOrCreate()"
      ]
    },
    {
      "cell_type": "code",
      "source": [
        "def plus_one(x):\n",
        "       return x+1"
      ],
      "metadata": {
        "id": "AqstkuMA5TM4"
      },
      "execution_count": 7,
      "outputs": []
    },
    {
      "cell_type": "code",
      "source": [
        "plus_one_udf= udf(plus_one,IntegerType())"
      ],
      "metadata": {
        "id": "mR69Ppqq5tW3"
      },
      "execution_count": 9,
      "outputs": []
    },
    {
      "cell_type": "code",
      "source": [
        "df = spark.createDataFrame([(1,), (2,), (3,)], [\"num\"])\n",
        "\n",
        "df1=df.withColumn(\"plus_one_num\", plus_one_udf(df[\"num\"]))\n",
        "\n",
        "df.show()\n",
        "df1.show()"
      ],
      "metadata": {
        "colab": {
          "base_uri": "https://localhost:8080/"
        },
        "id": "5GW8TveK56Mf",
        "outputId": "ff740b0d-2756-4497-bdf6-3b764824d657"
      },
      "execution_count": 11,
      "outputs": [
        {
          "output_type": "stream",
          "name": "stdout",
          "text": [
            "+---+\n",
            "|num|\n",
            "+---+\n",
            "|  1|\n",
            "|  2|\n",
            "|  3|\n",
            "+---+\n",
            "\n",
            "+---+------------+\n",
            "|num|plus_one_num|\n",
            "+---+------------+\n",
            "|  1|           2|\n",
            "|  2|           3|\n",
            "|  3|           4|\n",
            "+---+------------+\n",
            "\n"
          ]
        }
      ]
    }
  ]
}