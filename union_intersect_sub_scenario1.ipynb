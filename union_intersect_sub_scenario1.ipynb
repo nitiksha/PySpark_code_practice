{
  "nbformat": 4,
  "nbformat_minor": 0,
  "metadata": {
    "colab": {
      "provenance": [],
      "authorship_tag": "ABX9TyMN6dR2nIH3ZzVR++RVQloc",
      "include_colab_link": true
    },
    "kernelspec": {
      "name": "python3",
      "display_name": "Python 3"
    },
    "language_info": {
      "name": "python"
    }
  },
  "cells": [
    {
      "cell_type": "markdown",
      "metadata": {
        "id": "view-in-github",
        "colab_type": "text"
      },
      "source": [
        "<a href=\"https://colab.research.google.com/github/nitiksha/PySpark_code_practice/blob/main/union_intersect_sub_scenario1.ipynb\" target=\"_parent\"><img src=\"https://colab.research.google.com/assets/colab-badge.svg\" alt=\"Open In Colab\"/></a>"
      ]
    },
    {
      "cell_type": "code",
      "execution_count": 1,
      "metadata": {
        "id": "28smAcGKR9eE"
      },
      "outputs": [],
      "source": [
        "from pyspark.sql import SparkSession\n",
        "from pyspark.sql.functions import col\n",
        "\n",
        "spark = SparkSession.builder.appName(\"CustomerAnalysis\").getOrCreate()\n",
        "\n",
        "# Current month customers\n",
        "current_customers = spark.createDataFrame([\n",
        "    (\"C001\", \"John\"),\n",
        "    (\"C002\", \"Alice\"),\n",
        "    (\"C003\", \"Bob\"),\n",
        "    (\"C004\", \"Charlie\"),\n",
        "    (\"C005\", \"Diana\")\n",
        "], [\"customer_id\", \"name\"])\n",
        "\n",
        "# Previous month customers\n",
        "previous_customers = spark.createDataFrame([\n",
        "    (\"C001\", \"John\"),\n",
        "    (\"C002\", \"Alice\"),\n",
        "    (\"C006\", \"Eve\"),\n",
        "    (\"C007\", \"Frank\")\n",
        "], [\"customer_id\", \"name\"])\n",
        "\n",
        "# Premium customers\n",
        "premium_customers = spark.createDataFrame([\n",
        "    (\"C001\", \"John\"),\n",
        "    (\"C003\", \"Bob\"),\n",
        "    (\"C008\", \"Grace\")\n",
        "], [\"customer_id\", \"name\"])\n"
      ]
    },
    {
      "cell_type": "markdown",
      "source": [
        "Questions:\n",
        "Union: Find all unique customers across current and previous months.\n",
        "\n",
        "Intersect: Find customers who shopped in both months.\n",
        "\n",
        "Subtract: Find new customers (current month only)."
      ],
      "metadata": {
        "id": "v3FFWsYfSH3s"
      }
    },
    {
      "cell_type": "code",
      "source": [
        "current_customers.union(previous_customers).distinct().show()"
      ],
      "metadata": {
        "colab": {
          "base_uri": "https://localhost:8080/"
        },
        "id": "-dhWelZQV7Rm",
        "outputId": "ea6a9058-4d8b-4933-f48c-43b6da326e74"
      },
      "execution_count": 26,
      "outputs": [
        {
          "output_type": "stream",
          "name": "stdout",
          "text": [
            "+-----------+-------+\n",
            "|customer_id|   name|\n",
            "+-----------+-------+\n",
            "|       C001|   John|\n",
            "|       C002|  Alice|\n",
            "|       C004|Charlie|\n",
            "|       C003|    Bob|\n",
            "|       C005|  Diana|\n",
            "|       C006|    Eve|\n",
            "|       C007|  Frank|\n",
            "+-----------+-------+\n",
            "\n"
          ]
        }
      ]
    },
    {
      "cell_type": "code",
      "source": [
        "current_customers.intersect(previous_customers).distinct().show()"
      ],
      "metadata": {
        "colab": {
          "base_uri": "https://localhost:8080/"
        },
        "id": "zThhTRFIWXQg",
        "outputId": "3ee2f67a-4d26-4e53-a32b-8ce9cc1e4faf"
      },
      "execution_count": 27,
      "outputs": [
        {
          "output_type": "stream",
          "name": "stdout",
          "text": [
            "+-----------+-----+\n",
            "|customer_id| name|\n",
            "+-----------+-----+\n",
            "|       C001| John|\n",
            "|       C002|Alice|\n",
            "+-----------+-----+\n",
            "\n"
          ]
        }
      ]
    },
    {
      "cell_type": "code",
      "source": [
        "current_customers.subtract(previous_customers).distinct().show()"
      ],
      "metadata": {
        "colab": {
          "base_uri": "https://localhost:8080/"
        },
        "id": "8Ka5mxlCWkFM",
        "outputId": "147d8163-2c70-4a31-a148-e63f5aa3cb1e"
      },
      "execution_count": 28,
      "outputs": [
        {
          "output_type": "stream",
          "name": "stdout",
          "text": [
            "+-----------+-------+\n",
            "|customer_id|   name|\n",
            "+-----------+-------+\n",
            "|       C004|Charlie|\n",
            "|       C003|    Bob|\n",
            "|       C005|  Diana|\n",
            "+-----------+-------+\n",
            "\n"
          ]
        }
      ]
    }
  ]
}