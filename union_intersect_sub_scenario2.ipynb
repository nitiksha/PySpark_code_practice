{
  "nbformat": 4,
  "nbformat_minor": 0,
  "metadata": {
    "colab": {
      "provenance": [],
      "authorship_tag": "ABX9TyNpfaCDoUNW94MRDm2U91ct",
      "include_colab_link": true
    },
    "kernelspec": {
      "name": "python3",
      "display_name": "Python 3"
    },
    "language_info": {
      "name": "python"
    }
  },
  "cells": [
    {
      "cell_type": "markdown",
      "metadata": {
        "id": "view-in-github",
        "colab_type": "text"
      },
      "source": [
        "<a href=\"https://colab.research.google.com/github/nitiksha/PySpark_code_practice/blob/main/union_intersect_sub_scenario2.ipynb\" target=\"_parent\"><img src=\"https://colab.research.google.com/assets/colab-badge.svg\" alt=\"Open In Colab\"/></a>"
      ]
    },
    {
      "cell_type": "code",
      "execution_count": 2,
      "metadata": {
        "id": "gioNb4Q0YAOx"
      },
      "outputs": [],
      "source": [
        "from pyspark.sql import SparkSession\n",
        "from pyspark.sql.functions import col\n",
        "\n",
        "spark = SparkSession.builder.appName(\"employeeAnalysis\").getOrCreate()\n",
        "\n",
        "\n",
        "it_employees = spark.createDataFrame([\n",
        "    (\"E001\", \"Sarah\", \"Developer\"),\n",
        "    (\"E002\", \"Mike\", \"Analyst\"),\n",
        "    (\"E003\", \"Lisa\", \"Manager\")\n",
        "], [\"emp_id\", \"name\", \"role\"])\n",
        "\n",
        "# Marketing Department\n",
        "marketing_employees = spark.createDataFrame([\n",
        "    (\"E004\", \"Tom\", \"Manager\"),\n",
        "    (\"E005\", \"Anna\", \"Specialist\"),\n",
        "    (\"E001\", \"Sarah\", \"Developer\")  # Cross-department\n",
        "], [\"emp_id\", \"name\", \"role\"])\n",
        "\n",
        "# Senior employees (5+ years)\n",
        "senior_employees = spark.createDataFrame([\n",
        "    (\"E001\", \"Sarah\", \"Developer\"),\n",
        "    (\"E004\", \"Tom\", \"Manager\"),\n",
        "    (\"E006\", \"David\", \"Director\")\n",
        "], [\"emp_id\", \"name\", \"role\"])\n"
      ]
    },
    {
      "cell_type": "code",
      "source": [
        "it_employees.union(marketing_employees).union(senior_employees).show()"
      ],
      "metadata": {
        "colab": {
          "base_uri": "https://localhost:8080/"
        },
        "id": "x2Ur5jO2Z-DW",
        "outputId": "decb2812-09f1-499c-9ff5-76f7679eb967"
      },
      "execution_count": 9,
      "outputs": [
        {
          "output_type": "stream",
          "name": "stdout",
          "text": [
            "+------+-----+----------+\n",
            "|emp_id| name|      role|\n",
            "+------+-----+----------+\n",
            "|  E001|Sarah| Developer|\n",
            "|  E002| Mike|   Analyst|\n",
            "|  E003| Lisa|   Manager|\n",
            "|  E004|  Tom|   Manager|\n",
            "|  E005| Anna|Specialist|\n",
            "|  E001|Sarah| Developer|\n",
            "|  E001|Sarah| Developer|\n",
            "|  E004|  Tom|   Manager|\n",
            "|  E006|David|  Director|\n",
            "+------+-----+----------+\n",
            "\n"
          ]
        }
      ]
    },
    {
      "cell_type": "code",
      "source": [
        "it_employees.select(\"name\").distinct().union(marketing_employees.select(\"name\").distinct()).distinct().show()"
      ],
      "metadata": {
        "colab": {
          "base_uri": "https://localhost:8080/"
        },
        "id": "pktWX3-jYZaq",
        "outputId": "aa487278-fa6c-40f9-c88a-83a765d4b4ca"
      },
      "execution_count": 7,
      "outputs": [
        {
          "output_type": "stream",
          "name": "stdout",
          "text": [
            "+-----+\n",
            "| name|\n",
            "+-----+\n",
            "|Sarah|\n",
            "| Mike|\n",
            "| Lisa|\n",
            "|  Tom|\n",
            "| Anna|\n",
            "+-----+\n",
            "\n"
          ]
        }
      ]
    },
    {
      "cell_type": "markdown",
      "source": [
        "### Questions:\n",
        "1. **Union**: List all employees across departments.[3]\n",
        "2. **Intersect**: Find employees working in multiple departments.[3]\n",
        "3. **Subtract**: Find junior IT employees (IT but not senior).[1]"
      ],
      "metadata": {
        "id": "GQ-8wl-lYFWR"
      }
    },
    {
      "cell_type": "code",
      "source": [
        "it_employees.intersect(marketing_employees).show()"
      ],
      "metadata": {
        "colab": {
          "base_uri": "https://localhost:8080/"
        },
        "id": "LsMS8SfNZH4u",
        "outputId": "4c13b16d-f44d-487e-8a64-7291e16f2968"
      },
      "execution_count": 8,
      "outputs": [
        {
          "output_type": "stream",
          "name": "stdout",
          "text": [
            "+------+-----+---------+\n",
            "|emp_id| name|     role|\n",
            "+------+-----+---------+\n",
            "|  E001|Sarah|Developer|\n",
            "+------+-----+---------+\n",
            "\n"
          ]
        }
      ]
    },
    {
      "cell_type": "code",
      "source": [
        "it_employees.subtract(senior_employees).show()"
      ],
      "metadata": {
        "colab": {
          "base_uri": "https://localhost:8080/"
        },
        "id": "dUteMOJMZONC",
        "outputId": "1feb4c77-b0a5-4b94-e19e-71edd3670f63"
      },
      "execution_count": 6,
      "outputs": [
        {
          "output_type": "stream",
          "name": "stdout",
          "text": [
            "+------+----+-------+\n",
            "|emp_id|name|   role|\n",
            "+------+----+-------+\n",
            "|  E002|Mike|Analyst|\n",
            "|  E003|Lisa|Manager|\n",
            "+------+----+-------+\n",
            "\n"
          ]
        }
      ]
    }
  ]
}