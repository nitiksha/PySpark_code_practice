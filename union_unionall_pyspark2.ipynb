{
  "nbformat": 4,
  "nbformat_minor": 0,
  "metadata": {
    "colab": {
      "provenance": [],
      "authorship_tag": "ABX9TyNokRtX44aRdGtHONrMLVo4",
      "include_colab_link": true
    },
    "kernelspec": {
      "name": "python3",
      "display_name": "Python 3"
    },
    "language_info": {
      "name": "python"
    }
  },
  "cells": [
    {
      "cell_type": "markdown",
      "metadata": {
        "id": "view-in-github",
        "colab_type": "text"
      },
      "source": [
        "<a href=\"https://colab.research.google.com/github/nitiksha/PySpark_code_practice/blob/main/union_unionall_pyspark2.ipynb\" target=\"_parent\"><img src=\"https://colab.research.google.com/assets/colab-badge.svg\" alt=\"Open In Colab\"/></a>"
      ]
    },
    {
      "cell_type": "code",
      "execution_count": 2,
      "metadata": {
        "colab": {
          "base_uri": "https://localhost:8080/"
        },
        "id": "Zu0P91oP0ftm",
        "outputId": "43f94307-3ddd-4bce-aab1-9358fccab313"
      },
      "outputs": [
        {
          "output_type": "stream",
          "name": "stdout",
          "text": [
            "DataFrame 1:\n",
            "+---+-----+---+\n",
            "| id| name|age|\n",
            "+---+-----+---+\n",
            "|  1|Alice| 30|\n",
            "|  2|  Bob| 25|\n",
            "|  3|Cathy| 28|\n",
            "+---+-----+---+\n",
            "\n",
            "+---+-----+---+\n",
            "| id| name|age|\n",
            "+---+-----+---+\n",
            "|  1|Alice| 30|\n",
            "|  2|  Bob| 25|\n",
            "|  3|Cathy| 28|\n",
            "|  4|David| 35|\n",
            "|  5|  Eva| 22|\n",
            "+---+-----+---+\n",
            "\n",
            "+---+-----+---+\n",
            "| id| name|age|\n",
            "+---+-----+---+\n",
            "|  1|Alice| 30|\n",
            "|  2|  Bob| 25|\n",
            "|  3|Cathy| 28|\n",
            "|  4|David| 35|\n",
            "|  5|  Eva| 22|\n",
            "|  2|  Bob| 25|\n",
            "+---+-----+---+\n",
            "\n"
          ]
        }
      ],
      "source": [
        "from pyspark.sql import SparkSession\n",
        "\n",
        "spark = SparkSession.builder.appName(\"UnionExample\").getOrCreate()\n",
        "\n",
        "# DataFrame 1\n",
        "data1 = [\n",
        "    (1, \"Alice\", 30),\n",
        "    (2, \"Bob\", 25),\n",
        "    (3, \"Cathy\", 28)\n",
        "]\n",
        "columns = [\"id\", \"name\", \"age\"]\n",
        "df1 = spark.createDataFrame(data1, columns)\n",
        "\n",
        "# DataFrame 2\n",
        "data2 = [\n",
        "    (4, \"David\", 35),\n",
        "    (5, \"Eva\", 22),\n",
        "    (2, \"Bob\", 25)\n",
        "]\n",
        "df2 = spark.createDataFrame(data2, columns)\n",
        "\n",
        "# Show both DataFrames\n",
        "print(\"DataFrame 1:\")\n",
        "df1.show()\n",
        "\n",
        "df1.union(df2).distinct().show()\n",
        "df1.unionAll(df2).show()\n"
      ]
    },
    {
      "cell_type": "code",
      "source": [
        "df1.unionByName(df2).show()"
      ],
      "metadata": {
        "colab": {
          "base_uri": "https://localhost:8080/"
        },
        "id": "xgWqYRLf18m8",
        "outputId": "7ab8af25-7b2b-45be-cbab-adc35932076a"
      },
      "execution_count": 3,
      "outputs": [
        {
          "output_type": "stream",
          "name": "stdout",
          "text": [
            "+---+-----+---+\n",
            "| id| name|age|\n",
            "+---+-----+---+\n",
            "|  1|Alice| 30|\n",
            "|  2|  Bob| 25|\n",
            "|  3|Cathy| 28|\n",
            "|  4|David| 35|\n",
            "|  5|  Eva| 22|\n",
            "|  2|  Bob| 25|\n",
            "+---+-----+---+\n",
            "\n"
          ]
        }
      ]
    }
  ]
}